{
 "cells": [
  {
   "attachments": {},
   "cell_type": "markdown",
   "metadata": {},
   "source": [
    "In this experiment, we decode Shor's nine-qubit quantum error correcting code.\n",
    "We show decoding of the Shor's nine-qubit code using Dephasing DMRG, which is our own built-in DMRG-like optimisation algorithm to solve the main component problem which in its turn is the problem of finding a computational basis state cotributing the most to a given state."
   ]
  },
  {
   "cell_type": "code",
   "execution_count": 1,
   "metadata": {},
   "outputs": [],
   "source": [
    "import numpy as np\n",
    "import qecstruct as qec\n",
    "\n",
    "from mdopt.mps.utils import create_custom_product_state\n",
    "from mdopt.optimiser.utils import (\n",
    "    COPY_RIGHT,\n",
    "    SWAP,\n",
    "    XOR_BULK,\n",
    "    XOR_LEFT,\n",
    "    XOR_RIGHT,\n",
    "    ConstraintString,\n",
    ")\n",
    "\n",
    "from examples.decoding.decoding import (\n",
    "    linear_css_code_checks,\n",
    "    get_css_code_constraint_sites,\n",
    "    css_code_logicals,\n",
    "    get_css_code_logicals_sites,\n",
    "    apply_parity_constraints,\n",
    ")"
   ]
  },
  {
   "attachments": {},
   "cell_type": "markdown",
   "metadata": {},
   "source": [
    "Let us first import the code from `qecstruct` and take a look at it."
   ]
  },
  {
   "cell_type": "code",
   "execution_count": 2,
   "metadata": {},
   "outputs": [
    {
     "data": {
      "text/plain": [
       "X stabilizers:\n",
       "[0, 1, 2, 3, 4, 5]\n",
       "[3, 4, 5, 6, 7, 8]\n",
       "Z stabilizers:\n",
       "[0, 1]\n",
       "[1, 2]\n",
       "[3, 4]\n",
       "[4, 5]\n",
       "[6, 7]\n",
       "[7, 8]"
      ]
     },
     "execution_count": 2,
     "metadata": {},
     "output_type": "execute_result"
    }
   ],
   "source": [
    "code = qec.shor_code()\n",
    "code"
   ]
  },
  {
   "attachments": {},
   "cell_type": "markdown",
   "metadata": {},
   "source": [
    "This quantum error correcting code is defined on 9 physical qubits and has 2 logical operators. This means we will need $9*2 + 2 = 20$ sites in our MPS."
   ]
  },
  {
   "cell_type": "code",
   "execution_count": 3,
   "metadata": {},
   "outputs": [],
   "source": [
    "num_sites = 2 * len(code) + code.num_x_logicals() + code.num_z_logicals()\n",
    "assert num_sites == 20"
   ]
  },
  {
   "attachments": {},
   "cell_type": "markdown",
   "metadata": {},
   "source": [
    "Now, let us define the initial state. First of all we will check that no error will constitute no correction. This means starting from the all-zeros state followed by decoding will return all-zeros state for the logical operators (the final logical operator will be identity operator)."
   ]
  },
  {
   "cell_type": "code",
   "execution_count": 4,
   "metadata": {},
   "outputs": [],
   "source": [
    "string = \"0\" * num_sites\n",
    "error_state = create_custom_product_state(string=string, form=\"Right-canonical\")"
   ]
  },
  {
   "attachments": {},
   "cell_type": "markdown",
   "metadata": {},
   "source": [
    "Here, we get the sites where the checks will be applied. We will need to construct MPOs using this data."
   ]
  },
  {
   "cell_type": "code",
   "execution_count": 5,
   "metadata": {},
   "outputs": [
    {
     "name": "stdout",
     "output_type": "stream",
     "text": [
      "X checks\n",
      "[ 0  2  4  6  8 10]\n",
      "[ 6  8 10 12 14 16]\n",
      "Z checks\n",
      "[1 3]\n",
      "[3 5]\n",
      "[7 9]\n",
      "[ 9 11]\n",
      "[13 15]\n",
      "[15 17]\n"
     ]
    }
   ],
   "source": [
    "checks_x, checks_z = linear_css_code_checks(code)\n",
    "print(\"X checks\")\n",
    "for check in checks_x:\n",
    "    print(check)\n",
    "print(\"Z checks\")\n",
    "for check in checks_z:\n",
    "    print(check)"
   ]
  },
  {
   "attachments": {},
   "cell_type": "markdown",
   "metadata": {},
   "source": [
    "These lists mention only the sites where we will apply the XOR constraints. However, the MPOs will also consist of other tensors, such as SWAPs (wire crossings) and boundary XOR constraints. In what follows we define the list of these auxiliary tensors and the corresponding sites where they reside."
   ]
  },
  {
   "cell_type": "code",
   "execution_count": 6,
   "metadata": {},
   "outputs": [
    {
     "name": "stdout",
     "output_type": "stream",
     "text": [
      "Full X checks lists of sites\n",
      "[[0], [2, 4, 6, 8], [1, 3, 5, 7, 9], [10]]\n",
      "[[6], [8, 10, 12, 14], [7, 9, 11, 13, 15], [16]]\n",
      "Full Z checks lists of sites\n",
      "[[1], [], [2], [3]]\n",
      "[[3], [], [4], [5]]\n",
      "[[7], [], [8], [9]]\n",
      "[[9], [], [10], [11]]\n",
      "[[13], [], [14], [15]]\n",
      "[[15], [], [16], [17]]\n"
     ]
    }
   ],
   "source": [
    "tensors_constraints = [XOR_LEFT, XOR_BULK, SWAP, XOR_RIGHT]\n",
    "csscode_constraint_sites = get_css_code_constraint_sites(code)\n",
    "print(\"Full X checks lists of sites\")\n",
    "for string in csscode_constraint_sites[0]:\n",
    "    print(string)\n",
    "print(\"Full Z checks lists of sites\")\n",
    "for string in csscode_constraint_sites[1]:\n",
    "    print(string)"
   ]
  },
  {
   "attachments": {},
   "cell_type": "markdown",
   "metadata": {},
   "source": [
    "Let us now take a look at the logical operators."
   ]
  },
  {
   "cell_type": "code",
   "execution_count": 7,
   "metadata": {},
   "outputs": [
    {
     "name": "stdout",
     "output_type": "stream",
     "text": [
      "[0, 1, 2]\n",
      "\n",
      "[0, 3, 6]\n",
      "\n"
     ]
    }
   ],
   "source": [
    "print(code.x_logicals_binary())\n",
    "print(code.z_logicals_binary())"
   ]
  },
  {
   "attachments": {},
   "cell_type": "markdown",
   "metadata": {},
   "source": [
    "We need to again translate it to our MPO language by changing the indices since we add the logical-operator sites to the end of the MPS."
   ]
  },
  {
   "cell_type": "code",
   "execution_count": 8,
   "metadata": {},
   "outputs": [
    {
     "name": "stdout",
     "output_type": "stream",
     "text": [
      "[ 1  7 13]\n",
      "[0 2 4]\n"
     ]
    }
   ],
   "source": [
    "print(css_code_logicals(code)[0])\n",
    "print(css_code_logicals(code)[1])"
   ]
  },
  {
   "attachments": {},
   "cell_type": "markdown",
   "metadata": {},
   "source": [
    "Now goes the same operation of adding sites where auxiliary tensors go."
   ]
  },
  {
   "cell_type": "code",
   "execution_count": 9,
   "metadata": {},
   "outputs": [
    {
     "name": "stdout",
     "output_type": "stream",
     "text": [
      "[[1], [7, 13], [2, 3, 4, 5, 6, 8, 9, 10, 11, 12, 14, 15, 16, 17], [18]]\n",
      "[[0], [2, 4], [1, 3, 5, 6, 7, 8, 9, 10, 11, 12, 13, 14, 15, 16, 17, 18], [19]]\n"
     ]
    }
   ],
   "source": [
    "print(get_css_code_logicals_sites(code)[0])\n",
    "print(get_css_code_logicals_sites(code)[1])"
   ]
  },
  {
   "cell_type": "code",
   "execution_count": 10,
   "metadata": {},
   "outputs": [],
   "source": [
    "tensors_logicals = [XOR_LEFT, XOR_BULK, SWAP, COPY_RIGHT]\n",
    "constraint_sites_logicals = get_css_code_logicals_sites(code)"
   ]
  },
  {
   "attachments": {},
   "cell_type": "markdown",
   "metadata": {},
   "source": [
    "Now the fun part, contracting the logical MPOs."
   ]
  },
  {
   "cell_type": "code",
   "execution_count": 11,
   "metadata": {},
   "outputs": [
    {
     "name": "stderr",
     "output_type": "stream",
     "text": [
      "100%|██████████| 2/2 [00:00<00:00, 178.76it/s]\n"
     ]
    }
   ],
   "source": [
    "error_state = apply_parity_constraints(\n",
    "    error_state, csscode_constraint_sites[0], tensors_constraints, renormalise=True\n",
    ")"
   ]
  },
  {
   "cell_type": "code",
   "execution_count": 12,
   "metadata": {},
   "outputs": [
    {
     "name": "stderr",
     "output_type": "stream",
     "text": [
      "100%|██████████| 6/6 [00:00<00:00, 826.11it/s]\n"
     ]
    }
   ],
   "source": [
    "error_state = apply_parity_constraints(\n",
    "    error_state, csscode_constraint_sites[1], tensors_constraints, renormalise=True\n",
    ")"
   ]
  },
  {
   "cell_type": "code",
   "execution_count": 13,
   "metadata": {},
   "outputs": [
    {
     "name": "stderr",
     "output_type": "stream",
     "text": [
      "100%|██████████| 2/2 [00:00<00:00, 182.77it/s]\n"
     ]
    }
   ],
   "source": [
    "error_state = apply_parity_constraints(\n",
    "    error_state, constraint_sites_logicals, tensors_logicals, renormalise=True\n",
    ")"
   ]
  },
  {
   "attachments": {},
   "cell_type": "markdown",
   "metadata": {},
   "source": [
    "Marginalise over the message bits to get the logical operator MPS."
   ]
  },
  {
   "cell_type": "code",
   "execution_count": 14,
   "metadata": {},
   "outputs": [],
   "source": [
    "sites_to_marginalise = list(range(2 * len(code)))\n",
    "logical = error_state.marginal(sites_to_marginalise=sites_to_marginalise)"
   ]
  },
  {
   "cell_type": "code",
   "execution_count": 15,
   "metadata": {},
   "outputs": [
    {
     "data": {
      "text/plain": [
       "array([1., 0., 0., 0.])"
      ]
     },
     "execution_count": 15,
     "metadata": {},
     "output_type": "execute_result"
    }
   ],
   "source": [
    "logical.dense()"
   ]
  },
  {
   "attachments": {},
   "cell_type": "markdown",
   "metadata": {},
   "source": [
    "Which is exactly the all-zero state!"
   ]
  },
  {
   "cell_type": "code",
   "execution_count": null,
   "metadata": {},
   "outputs": [],
   "source": []
  }
 ],
 "metadata": {
  "kernelspec": {
   "display_name": "mdopt-ZdbamFdU-py3.9",
   "language": "python",
   "name": "python3"
  },
  "language_info": {
   "codemirror_mode": {
    "name": "ipython",
    "version": 3
   },
   "file_extension": ".py",
   "mimetype": "text/x-python",
   "name": "python",
   "nbconvert_exporter": "python",
   "pygments_lexer": "ipython3",
   "version": "3.9.13"
  },
  "orig_nbformat": 4,
  "vscode": {
   "interpreter": {
    "hash": "cd00668ec6929851fcf19d7aebdf8f5927f35d0f54b527f252ebcdaf64fd8c43"
   }
  }
 },
 "nbformat": 4,
 "nbformat_minor": 2
}
