{
 "cells": [
  {
   "cell_type": "markdown",
   "metadata": {},
   "source": [
    "# Decoding Shor's 9-qubit code"
   ]
  },
  {
   "attachments": {},
   "cell_type": "markdown",
   "metadata": {},
   "source": [
    "In this experiment, we decode Shor's nine-qubit quantum error correcting code which protects a single qubit from all types of errors by using ``mdopt``. Here, we demonstrate direct-error input decoding, which means that the decoder takes a Pauli error as input and outputs the most likely logical operator. This pipeline is sufficient for threshold computation. In reality, the decoder could be shown a syndrome measurement, from which possible error patterns would be sampled. After each run, the algorithm yields a probability distribution over the Pauli operators (I, X, Z, Y) to apply to the encoded logical qubit. Hereafter, we assume an independent noise model as well as perfect syndrome measurements. In this experiment, we do not truncate the tensor network thus perform exact maximum likelihood decoding."
   ]
  },
  {
   "cell_type": "code",
   "execution_count": 1,
   "metadata": {},
   "outputs": [],
   "source": [
    "import numpy as np\n",
    "import qecstruct as qec\n",
    "import qecsim.paulitools as pt\n",
    "import matplotlib.pyplot as plt\n",
    "from tqdm import tqdm\n",
    "\n",
    "from mdopt.mps.utils import create_custom_product_state\n",
    "from mdopt.optimiser.utils import (\n",
    "    SWAP,\n",
    "    COPY_LEFT,\n",
    "    XOR_BULK,\n",
    "    XOR_LEFT,\n",
    "    XOR_RIGHT,\n",
    ")\n",
    "from examples.decoding.decoding import (\n",
    "    css_code_checks,\n",
    "    css_code_logicals,\n",
    "    css_code_logicals_sites,\n",
    "    css_code_constraint_sites,\n",
    ")\n",
    "from examples.decoding.decoding import (\n",
    "    apply_constraints,\n",
    "    apply_bitflip_bias,\n",
    ")\n",
    "from examples.decoding.decoding import (\n",
    "    pauli_to_mps,\n",
    "    decode_css,\n",
    ")"
   ]
  },
  {
   "attachments": {},
   "cell_type": "markdown",
   "metadata": {},
   "source": [
    "Let us first import the code from `qecstruct` and take a look at it."
   ]
  },
  {
   "cell_type": "code",
   "execution_count": 2,
   "metadata": {},
   "outputs": [
    {
     "name": "stdout",
     "output_type": "stream",
     "text": [
      "X stabilizers:\n",
      "[0, 1, 2, 3, 4, 5]\n",
      "[3, 4, 5, 6, 7, 8]\n",
      "Z stabilizers:\n",
      "[0, 1]\n",
      "[1, 2]\n",
      "[3, 4]\n",
      "[4, 5]\n",
      "[6, 7]\n",
      "[7, 8]\n",
      "\n",
      "The X logical:  [0, 1, 2]\n",
      "\n",
      "The Z logical:  [0, 3, 6]\n",
      "\n"
     ]
    }
   ],
   "source": [
    "code = qec.shor_code()\n",
    "print(code)\n",
    "print(\"The X logical: \", code.x_logicals_binary())\n",
    "print(\"The Z logical: \", code.z_logicals_binary())"
   ]
  },
  {
   "attachments": {},
   "cell_type": "markdown",
   "metadata": {},
   "source": [
    "This quantum error correcting code is defined on $9$ physical qubits and has $2$ logical operators because it encodes $1$ logical qubit. This means we will need $9*2 + 2 = 20$ sites in our MPS."
   ]
  },
  {
   "cell_type": "code",
   "execution_count": 3,
   "metadata": {},
   "outputs": [],
   "source": [
    "num_logicals = code.num_x_logicals() + code.num_z_logicals()\n",
    "num_sites = 2 * len(code) + num_logicals\n",
    "\n",
    "assert num_sites == 20\n",
    "assert num_logicals == 2"
   ]
  },
  {
   "attachments": {},
   "cell_type": "markdown",
   "metadata": {},
   "source": [
    "Now, let us define the initial state. First of all we will check that no error implies no correction. This means starting from the all-zero state followed by decoding will return all-zero state for the logical operators (the final logical operator will thus be identity operator). Thus, we start from the all-zero state for the error and the $|+\\rangle$ state for the logicals."
   ]
  },
  {
   "cell_type": "code",
   "execution_count": 4,
   "metadata": {},
   "outputs": [],
   "source": [
    "error_state = \"0\" * (num_sites - num_logicals)\n",
    "logicals_state = \"+\" * num_logicals\n",
    "state_string = logicals_state + error_state\n",
    "error_mps = create_custom_product_state(string=state_string)"
   ]
  },
  {
   "attachments": {},
   "cell_type": "markdown",
   "metadata": {},
   "source": [
    "Here, we get the sites where the checks will be applied. We will need to construct MPOs using this data."
   ]
  },
  {
   "cell_type": "code",
   "execution_count": 5,
   "metadata": {},
   "outputs": [
    {
     "name": "stdout",
     "output_type": "stream",
     "text": [
      "X checks:\n",
      "[2, 4, 6, 8, 10, 12]\n",
      "[8, 10, 12, 14, 16, 18]\n",
      "Z checks:\n",
      "[3, 5]\n",
      "[5, 7]\n",
      "[9, 11]\n",
      "[11, 13]\n",
      "[15, 17]\n",
      "[17, 19]\n"
     ]
    }
   ],
   "source": [
    "checks_x, checks_z = css_code_checks(code)\n",
    "print(\"X checks:\")\n",
    "for check in checks_x:\n",
    "    print(check)\n",
    "print(\"Z checks:\")\n",
    "for check in checks_z:\n",
    "    print(check)"
   ]
  },
  {
   "attachments": {},
   "cell_type": "markdown",
   "metadata": {},
   "source": [
    "These lists mention only the sites where we will apply the XOR constraints. However, the MPOs will also consist of other tensors, such as SWAPs (tensors' legs crossings) and boundary XOR constraints. In what follows we define the list of these auxiliary tensors and the corresponding sites where they reside."
   ]
  },
  {
   "cell_type": "code",
   "execution_count": 6,
   "metadata": {},
   "outputs": [],
   "source": [
    "constraints_tensors = [XOR_LEFT, XOR_BULK, SWAP, XOR_RIGHT]\n",
    "logicals_tensors = [COPY_LEFT, XOR_BULK, SWAP, XOR_RIGHT]"
   ]
  },
  {
   "cell_type": "code",
   "execution_count": 7,
   "metadata": {},
   "outputs": [
    {
     "name": "stdout",
     "output_type": "stream",
     "text": [
      "Full X-check lists of sites:\n",
      "[[2], [4, 6, 8, 10], [3, 5, 7, 9, 11], [12]]\n",
      "[[8], [10, 12, 14, 16], [9, 11, 13, 15, 17], [18]]\n",
      "Full Z-check lists of sites:\n",
      "[[3], [], [4], [5]]\n",
      "[[5], [], [6], [7]]\n",
      "[[9], [], [10], [11]]\n",
      "[[11], [], [12], [13]]\n",
      "[[15], [], [16], [17]]\n",
      "[[17], [], [18], [19]]\n"
     ]
    }
   ],
   "source": [
    "constraint_sites = css_code_constraint_sites(code)\n",
    "print(\"Full X-check lists of sites:\")\n",
    "for string in constraint_sites[0]:\n",
    "    print(string)\n",
    "print(\"Full Z-check lists of sites:\")\n",
    "for string in constraint_sites[1]:\n",
    "    print(string)"
   ]
  },
  {
   "attachments": {},
   "cell_type": "markdown",
   "metadata": {},
   "source": [
    "Let us now again take a look at the logical operators."
   ]
  },
  {
   "cell_type": "code",
   "execution_count": 8,
   "metadata": {},
   "outputs": [
    {
     "name": "stdout",
     "output_type": "stream",
     "text": [
      "[0, 1, 2]\n",
      "\n",
      "[0, 3, 6]\n",
      "\n"
     ]
    }
   ],
   "source": [
    "print(code.x_logicals_binary())\n",
    "print(code.z_logicals_binary())"
   ]
  },
  {
   "attachments": {},
   "cell_type": "markdown",
   "metadata": {},
   "source": [
    "We need to again translate them to our MPO language by changing the indices since we add the logical sites at the beginning of the MPS."
   ]
  },
  {
   "cell_type": "code",
   "execution_count": 9,
   "metadata": {},
   "outputs": [
    {
     "name": "stdout",
     "output_type": "stream",
     "text": [
      "[[2, 4, 6]]\n",
      "[[3, 9, 15]]\n"
     ]
    }
   ],
   "source": [
    "print(css_code_logicals(code)[0])\n",
    "print(css_code_logicals(code)[1])"
   ]
  },
  {
   "attachments": {},
   "cell_type": "markdown",
   "metadata": {},
   "source": [
    "Now goes the same operation of adding sites where auxiliary tensors should be placed."
   ]
  },
  {
   "cell_type": "code",
   "execution_count": 10,
   "metadata": {},
   "outputs": [
    {
     "name": "stdout",
     "output_type": "stream",
     "text": [
      "[[[0], [2, 4], [1, 3, 5], [6]]]\n",
      "[[[1], [3, 9], [2, 4, 5, 6, 7, 8, 10, 11, 12, 13, 14], [15]]]\n"
     ]
    }
   ],
   "source": [
    "logicals_sites = css_code_logicals_sites(code)\n",
    "print(css_code_logicals_sites(code)[0])\n",
    "print(css_code_logicals_sites(code)[1])"
   ]
  },
  {
   "attachments": {},
   "cell_type": "markdown",
   "metadata": {},
   "source": [
    "Now the fun part, MPS-MPO contraction. But first, we apply the bias channel to our error state. This is done to bias our output towards the received input. This is done by distributing the amplitude around the initial basis product state to other basis product states in the descending order by Hamming distance."
   ]
  },
  {
   "attachments": {},
   "cell_type": "markdown",
   "metadata": {},
   "source": [
    "Finally, the tensor network we are going to build is going to look as follows:\n",
    "<img src=\"shor-decoder.png\" alt=\"Tensor-network error-based decoder for the Shor's 9-qubit code.\" />"
   ]
  },
  {
   "cell_type": "code",
   "execution_count": 11,
   "metadata": {},
   "outputs": [],
   "source": [
    "renormalise = True\n",
    "sites_to_bias = list(range(num_logicals, num_sites))\n",
    "error_mps = apply_bitflip_bias(\n",
    "    mps=error_mps,\n",
    "    sites_to_bias=sites_to_bias,\n",
    ")"
   ]
  },
  {
   "cell_type": "code",
   "execution_count": 12,
   "metadata": {},
   "outputs": [
    {
     "name": "stderr",
     "output_type": "stream",
     "text": [
      "100%|██████████| 2/2 [00:00<00:00, 299.00it/s]\n",
      "100%|██████████| 6/6 [00:00<00:00, 1443.99it/s]\n",
      "100%|██████████| 1/1 [00:00<00:00, 353.00it/s]\n",
      "100%|██████████| 1/1 [00:00<00:00, 285.31it/s]\n"
     ]
    }
   ],
   "source": [
    "for i in [0, 1]:\n",
    "    error_mps = apply_constraints(\n",
    "        error_mps,\n",
    "        constraint_sites[i],\n",
    "        constraints_tensors,\n",
    "        renormalise=renormalise,\n",
    "        strategy=\"Optimised\",\n",
    "    )\n",
    "for i in [0, 1]:\n",
    "    error_mps = apply_constraints(\n",
    "        error_mps,\n",
    "        logicals_sites[i],\n",
    "        logicals_tensors,\n",
    "        renormalise=renormalise,\n",
    "        strategy=\"Optimised\",\n",
    "    )"
   ]
  },
  {
   "attachments": {},
   "cell_type": "markdown",
   "metadata": {},
   "source": [
    "Now, we marginalise over the message bits to get the probability distribution over the four possibilities of a logical operator: $I$, $X$, $Z$, $Y$."
   ]
  },
  {
   "cell_type": "code",
   "execution_count": 13,
   "metadata": {},
   "outputs": [
    {
     "name": "stdout",
     "output_type": "stream",
     "text": [
      "[0.61225663 0.06778069 0.28807136 0.03189132]\n"
     ]
    }
   ],
   "source": [
    "sites_to_marginalise = list(range(num_logicals, len(error_state) + num_logicals))\n",
    "logical = error_mps.marginal(sites_to_marginalise=sites_to_marginalise).dense(\n",
    "    flatten=True, renormalise=True, norm=1\n",
    ")\n",
    "print(logical)"
   ]
  },
  {
   "attachments": {},
   "cell_type": "markdown",
   "metadata": {},
   "source": [
    "Which indeed tells us that most likely we do not need to apply any operator!"
   ]
  },
  {
   "attachments": {},
   "cell_type": "markdown",
   "metadata": {},
   "source": [
    "Let's now put all of this into a function. We'll need this to run the decoder over a bunch of single- and multiqubit errors."
   ]
  },
  {
   "attachments": {},
   "cell_type": "markdown",
   "metadata": {},
   "source": [
    "Let's now generate all possible one-, two- and three-qubit errors using `qecsim`."
   ]
  },
  {
   "cell_type": "code",
   "execution_count": 14,
   "metadata": {},
   "outputs": [],
   "source": [
    "one_qubit_paulis = pt.ipauli(n_qubits=len(code), min_weight=1, max_weight=1)\n",
    "two_qubit_paulis = pt.ipauli(n_qubits=len(code), min_weight=2, max_weight=2)\n",
    "three_qubit_paulis = pt.ipauli(n_qubits=len(code), min_weight=3, max_weight=3)"
   ]
  },
  {
   "cell_type": "code",
   "execution_count": 15,
   "metadata": {},
   "outputs": [
    {
     "name": "stderr",
     "output_type": "stream",
     "text": [
      "0it [00:00, ?it/s]/Users/aleksandrberezutskii/mdopt/mdopt/mps/canonical.py:1031: RuntimeWarning: invalid value encountered in true_divide\n",
      "  self.tensors[self.orth_centre] /= orth_centre_norm\n",
      "27it [00:00, 167.62it/s]\n"
     ]
    }
   ],
   "source": [
    "one_qubit_outputs = [\n",
    "    decode_css(\n",
    "        code,\n",
    "        error,\n",
    "        bias_type=\"Bitflip\",\n",
    "        renormalise=renormalise,\n",
    "        silent=True,\n",
    "        bias_prob=0,\n",
    "    )\n",
    "    for error in tqdm(one_qubit_paulis)\n",
    "]\n",
    "one_qubit_corrections_distribution = [output[0] for output in one_qubit_outputs]"
   ]
  },
  {
   "cell_type": "code",
   "execution_count": 16,
   "metadata": {},
   "outputs": [
    {
     "name": "stderr",
     "output_type": "stream",
     "text": [
      "324it [00:02, 136.81it/s]\n"
     ]
    }
   ],
   "source": [
    "two_qubit_outputs = [\n",
    "    decode_css(\n",
    "        code,\n",
    "        error,\n",
    "        bias_type=\"Bitflip\",\n",
    "        renormalise=renormalise,\n",
    "        silent=True,\n",
    "        bias_prob=1e-2,\n",
    "    )\n",
    "    for error in tqdm(two_qubit_paulis)\n",
    "]\n",
    "two_qubit_corrections_distribution = [output[0] for output in two_qubit_outputs]"
   ]
  },
  {
   "cell_type": "code",
   "execution_count": 17,
   "metadata": {},
   "outputs": [
    {
     "name": "stderr",
     "output_type": "stream",
     "text": [
      "2268it [00:19, 117.83it/s]\n"
     ]
    }
   ],
   "source": [
    "three_qubit_outputs = [\n",
    "    decode_css(\n",
    "        code,\n",
    "        error,\n",
    "        bias_type=\"Bitflip\",\n",
    "        renormalise=renormalise,\n",
    "        silent=True,\n",
    "        bias_prob=1e-2,\n",
    "    )\n",
    "    for error in tqdm(three_qubit_paulis)\n",
    "]\n",
    "three_qubit_corrections_distribution = [output[0] for output in three_qubit_outputs]"
   ]
  },
  {
   "cell_type": "code",
   "execution_count": 18,
   "metadata": {},
   "outputs": [],
   "source": [
    "def map_distribution_to_pauli(distribution):\n",
    "    mapping = {0: \"I\", 1: \"X\", 2: \"Z\", 3: \"Y\"}\n",
    "    result = []\n",
    "\n",
    "    for array in distribution:\n",
    "        max_index = np.argmax(array)\n",
    "        result.append(mapping[max_index])\n",
    "\n",
    "    return result"
   ]
  },
  {
   "cell_type": "code",
   "execution_count": 19,
   "metadata": {},
   "outputs": [
    {
     "data": {
      "image/png": "[encoded data removed]",
      "text/plain": [
       "<Figure size 640x480 with 1 Axes>"
      ]
     },
     "metadata": {},
     "output_type": "display_data"
    }
   ],
   "source": [
    "plt.hist(map_distribution_to_pauli(one_qubit_corrections_distribution))\n",
    "plt.show()"
   ]
  },
  {
   "cell_type": "code",
   "execution_count": 20,
   "metadata": {},
   "outputs": [
    {
     "data": {
      "image/png": "[encoded data removed]",
      "text/plain": [
       "<Figure size 640x480 with 1 Axes>"
      ]
     },
     "metadata": {},
     "output_type": "display_data"
    }
   ],
   "source": [
    "plt.hist(map_distribution_to_pauli(two_qubit_corrections_distribution))\n",
    "plt.show()"
   ]
  },
  {
   "cell_type": "code",
   "execution_count": 21,
   "metadata": {},
   "outputs": [
    {
     "data": {
      "image/png": "[encoded data removed]",
      "text/plain": [
       "<Figure size 640x480 with 1 Axes>"
      ]
     },
     "metadata": {},
     "output_type": "display_data"
    }
   ],
   "source": [
    "plt.hist(map_distribution_to_pauli(three_qubit_corrections_distribution))\n",
    "plt.show()"
   ]
  },
  {
   "attachments": {},
   "cell_type": "markdown",
   "metadata": {},
   "source": [
    "Let's now check by hand that some of the decoder's nontrivial outputs are indeed correct. First of all, from all one-qubit errors we get the Identity operator which corresponds to the fact that Shor's code corrects all one-qubit errors. However, Shor's code can also correct some two-qubit errors."
   ]
  },
  {
   "cell_type": "code",
   "execution_count": 22,
   "metadata": {},
   "outputs": [],
   "source": [
    "one_qubit_paulis = list(pt.ipauli(n_qubits=len(code), min_weight=1, max_weight=1))\n",
    "two_qubit_paulis = list(pt.ipauli(n_qubits=len(code), min_weight=2, max_weight=2))\n",
    "three_qubit_paulis = list(pt.ipauli(n_qubits=len(code), min_weight=3, max_weight=3))"
   ]
  },
  {
   "attachments": {},
   "cell_type": "markdown",
   "metadata": {},
   "source": [
    "Let's take a look at the first 20 errors which result in the Identity logical operator as the output."
   ]
  },
  {
   "cell_type": "code",
   "execution_count": 23,
   "metadata": {},
   "outputs": [
    {
     "name": "stdout",
     "output_type": "stream",
     "text": [
      "XXIIIIIII\n",
      "XZIIIIIII\n",
      "XYIIIIIII\n",
      "ZXIIIIIII\n",
      "YXIIIIIII\n",
      "YYIIIIIII\n",
      "XIXIIIIII\n",
      "XIZIIIIII\n",
      "XIYIIIIII\n",
      "ZIXIIIIII\n",
      "YIXIIIIII\n",
      "YIYIIIIII\n",
      "XIIZIIIII\n",
      "ZIIXIIIII\n"
     ]
    }
   ],
   "source": [
    "limit = 20\n",
    "for i, correction in enumerate(\n",
    "    map_distribution_to_pauli(two_qubit_corrections_distribution)\n",
    "):\n",
    "    if correction == \"I\":\n",
    "        print(two_qubit_paulis[i])\n",
    "    if i > limit:\n",
    "        break"
   ]
  },
  {
   "attachments": {},
   "cell_type": "markdown",
   "metadata": {},
   "source": [
    "We now want to dive a bit more into what is happening inside the decoder to be able to better understand the results, even though the current setup is already sufficient for calculating thresholds. For example, the first error $(X_0 X_1)$ from the list above would trigger the first $X$ parity check in the case of measuring it. This can be seen from the actual tensor network we are building (see the image below). However, in the current setup the stabilisers are being set to $0$, which is the result of the fact that the $\\text{XOR}$ tensors we use project out the inputs of odd (i.e., equal to $1$) parity. After applying the logical-operator MPOs and performing marginalization, the process yields a marginal distribution over codewords, each reflecting different parities of the logical operators.\n",
    "\n",
    "<img src=\"shor-decoder.png\" alt=\"Tensor-network error-based decoder for the Shor's 9-qubit code.\"/>"
   ]
  },
  {
   "attachments": {},
   "cell_type": "markdown",
   "metadata": {},
   "source": [
    "Let's now take a look at the errors which result in the $X$ logical operator as the output."
   ]
  },
  {
   "cell_type": "code",
   "execution_count": 24,
   "metadata": {},
   "outputs": [
    {
     "name": "stdout",
     "output_type": "stream",
     "text": [
      "XIIXIIIII\n",
      "XIIYIIIII\n",
      "YIIXIIIII\n",
      "XIIIXIIII\n",
      "XIIIYIIII\n",
      "YIIIXIIII\n",
      "XIIIIXIII\n",
      "XIIIIYIII\n",
      "YIIIIXIII\n",
      "XIIIIIXII\n",
      "XIIIIIYII\n",
      "YIIIIIXII\n",
      "XIIIIIIXI\n",
      "XIIIIIIYI\n",
      "YIIIIIIXI\n",
      "XIIIIIIIX\n",
      "XIIIIIIIY\n",
      "YIIIIIIIX\n",
      "IXIXIIIII\n",
      "IXIYIIIII\n",
      "IYIXIIIII\n",
      "IXIIXIIII\n",
      "IXIIYIIII\n",
      "IYIIXIIII\n",
      "IXIIIXIII\n",
      "IXIIIYIII\n",
      "IYIIIXIII\n",
      "IXIIIIXII\n",
      "IXIIIIYII\n",
      "IYIIIIXII\n",
      "IXIIIIIXI\n",
      "IXIIIIIYI\n",
      "IYIIIIIXI\n",
      "IXIIIIIIX\n",
      "IXIIIIIIY\n",
      "IYIIIIIIX\n",
      "IIXXIIIII\n",
      "IIXYIIIII\n",
      "IIYXIIIII\n",
      "IIXIXIIII\n",
      "IIXIYIIII\n",
      "IIYIXIIII\n",
      "IIXIIXIII\n",
      "IIXIIYIII\n",
      "IIYIIXIII\n",
      "IIXIIIXII\n",
      "IIXIIIYII\n",
      "IIYIIIXII\n",
      "IIXIIIIXI\n",
      "IIXIIIIYI\n",
      "IIYIIIIXI\n",
      "IIXIIIIIX\n",
      "IIXIIIIIY\n",
      "IIYIIIIIX\n",
      "IIIXIIXII\n",
      "IIIXIIYII\n",
      "IIIYIIXII\n",
      "IIIXIIIXI\n",
      "IIIXIIIYI\n",
      "IIIYIIIXI\n",
      "IIIXIIIIX\n",
      "IIIXIIIIY\n",
      "IIIYIIIIX\n",
      "IIIIXIXII\n",
      "IIIIXIYII\n",
      "IIIIYIXII\n",
      "IIIIXIIXI\n",
      "IIIIXIIYI\n",
      "IIIIYIIXI\n",
      "IIIIXIIIX\n",
      "IIIIXIIIY\n",
      "IIIIYIIIX\n",
      "IIIIIXXII\n",
      "IIIIIXYII\n",
      "IIIIIYXII\n",
      "IIIIIXIXI\n",
      "IIIIIXIYI\n",
      "IIIIIYIXI\n",
      "IIIIIXIIX\n",
      "IIIIIXIIY\n",
      "IIIIIYIIX\n"
     ]
    }
   ],
   "source": [
    "for i, correction in enumerate(\n",
    "    map_distribution_to_pauli(two_qubit_corrections_distribution)\n",
    "):\n",
    "    if correction == \"X\":\n",
    "        print(two_qubit_paulis[i])"
   ]
  },
  {
   "attachments": {},
   "cell_type": "markdown",
   "metadata": {},
   "source": [
    "Similarly to the previous case, the first error $(X_0 X_3)$ from the list above would trigger the first $X$ parity check which in its turn would trigger the $\\text{XOR}$ tensor corresponding to the $X$ logical-operator MPO therefore the $X$ logical as the most likely output."
   ]
  }
 ],
 "metadata": {
  "kernelspec": {
   "display_name": "mdopt-ZdbamFdU-py3.10",
   "language": "python",
   "name": "python3"
  },
  "language_info": {
   "codemirror_mode": {
    "name": "ipython",
    "version": 3
   },
   "file_extension": ".py",
   "mimetype": "text/x-python",
   "name": "python",
   "nbconvert_exporter": "python",
   "pygments_lexer": "ipython3",
   "version": "3.10.16"
  },
  "orig_nbformat": 4
 },
 "nbformat": 4,
 "nbformat_minor": 2
}
