{
 "cells": [
  {
   "cell_type": "markdown",
   "metadata": {},
   "source": [
    "# Decoding Hypergraph Product Code"
   ]
  },
  {
   "cell_type": "code",
   "execution_count": null,
   "metadata": {},
   "outputs": [],
   "source": [
    "import qecstruct as qc\n",
    "\n",
    "from mdopt.optimiser.dephasing_dmrg import DephasingDMRG\n",
    "from mdopt.mps.utils import (\n",
    "    create_custom_product_state,\n",
    "    create_simple_product_state,\n",
    "    inner_product,\n",
    "    marginalise,\n",
    ")\n",
    "from mdopt.optimiser.utils import (\n",
    "    XOR_BULK,\n",
    "    XOR_LEFT,\n",
    "    XOR_RIGHT,\n",
    "    COPY_LEFT,\n",
    "    SWAP,\n",
    ")\n",
    "from examples.decoding.decoding import (\n",
    "    css_code_constraint_sites,\n",
    "    css_code_logicals_sites,\n",
    "    apply_bitflip_bias,\n",
    "    apply_constraints,\n",
    ")"
   ]
  },
  {
   "cell_type": "code",
   "execution_count": 2,
   "metadata": {},
   "outputs": [],
   "source": [
    "SEED = 123\n",
    "NUM_BITS, NUM_CHECKS = 10, 6\n",
    "CHECK_DEGREE, BIT_DEGREE = 5, 3\n",
    "if NUM_BITS / NUM_CHECKS != CHECK_DEGREE / BIT_DEGREE:\n",
    "    raise ValueError(\"The Tanner graph of the code must be bipartite.\")\n",
    "code = qc.random_regular_code(\n",
    "    NUM_BITS, NUM_CHECKS, BIT_DEGREE, CHECK_DEGREE, qc.Rng(SEED)\n",
    ")\n",
    "hgpc = qc.hypergraph_product(code, code)\n",
    "num_sites = 2 * hgpc.length() + hgpc.num_x_logicals() + hgpc.num_z_logicals()\n",
    "num_logicals = hgpc.num_x_logicals() + hgpc.num_z_logicals()\n",
    "error = \"0\" * num_sites\n",
    "string_state = \"+\" * num_logicals + error\n",
    "error_mps = create_custom_product_state(string=string_state, form=\"Right-canonical\")\n",
    "constraints_tensors = [XOR_LEFT, XOR_BULK, SWAP, XOR_RIGHT]\n",
    "logicals_tensors = [COPY_LEFT, XOR_BULK, SWAP, XOR_RIGHT]\n",
    "chi_max = 64"
   ]
  },
  {
   "cell_type": "code",
   "execution_count": 3,
   "metadata": {},
   "outputs": [],
   "source": [
    "constraints_sites = css_code_constraint_sites(hgpc)\n",
    "logicals_sites = css_code_logicals_sites(hgpc)"
   ]
  },
  {
   "cell_type": "code",
   "execution_count": 4,
   "metadata": {},
   "outputs": [],
   "source": [
    "renormalise = True\n",
    "result_to_explicit = False\n",
    "sites_to_bias = list(range(num_logicals, num_sites))\n",
    "error_mps = apply_bitflip_bias(\n",
    "    mps=error_mps,\n",
    "    sites_to_bias=sites_to_bias,\n",
    "    renormalise=renormalise,\n",
    "    result_to_explicit=result_to_explicit,\n",
    ")"
   ]
  },
  {
   "cell_type": "code",
   "execution_count": 5,
   "metadata": {},
   "outputs": [
    {
     "name": "stderr",
     "output_type": "stream",
     "text": [
      "100%|██████████| 60/60 [00:43<00:00,  1.36it/s]\n",
      "100%|██████████| 60/60 [01:13<00:00,  1.22s/it]\n",
      "100%|██████████| 2/2 [00:01<00:00,  1.73it/s]\n"
     ]
    }
   ],
   "source": [
    "error_mps = apply_constraints(\n",
    "    error_mps,\n",
    "    constraints_sites[0],\n",
    "    constraints_tensors,\n",
    "    chi_max=chi_max,\n",
    "    renormalise=renormalise,\n",
    "    result_to_explicit=result_to_explicit,\n",
    ")\n",
    "error_mps = apply_constraints(\n",
    "    error_mps,\n",
    "    constraints_sites[1],\n",
    "    constraints_tensors,\n",
    "    chi_max=chi_max,\n",
    "    renormalise=renormalise,\n",
    "    result_to_explicit=result_to_explicit,\n",
    ")\n",
    "error_mps = apply_constraints(\n",
    "    error_mps,\n",
    "    logicals_sites,\n",
    "    logicals_tensors,\n",
    "    chi_max=chi_max,\n",
    "    renormalise=renormalise,\n",
    "    result_to_explicit=result_to_explicit,\n",
    ")"
   ]
  },
  {
   "cell_type": "code",
   "execution_count": 6,
   "metadata": {},
   "outputs": [],
   "source": [
    "sites_to_marginalise = list(range(num_logicals, len(error)))"
   ]
  },
  {
   "cell_type": "code",
   "execution_count": 7,
   "metadata": {},
   "outputs": [],
   "source": [
    "logicals = marginalise(mps=error_mps, sites_to_marginalise=sites_to_marginalise)"
   ]
  },
  {
   "cell_type": "code",
   "execution_count": 8,
   "metadata": {},
   "outputs": [],
   "source": [
    "num_dmrg_sites = len(logicals)\n",
    "mps_dmrg_start = create_simple_product_state(num_dmrg_sites, which=\"+\")\n",
    "mps_dmrg_target = create_simple_product_state(num_dmrg_sites, which=\"0\")\n",
    "engine = DephasingDMRG(\n",
    "    mps=mps_dmrg_start,\n",
    "    mps_target=mps_dmrg_target,\n",
    "    chi_max=chi_max,\n",
    "    mode=\"LA\",\n",
    "    silent=False,\n",
    ")"
   ]
  },
  {
   "cell_type": "code",
   "execution_count": 9,
   "metadata": {},
   "outputs": [
    {
     "name": "stderr",
     "output_type": "stream",
     "text": [
      "100%|██████████| 1/1 [00:00<00:00,  2.48it/s]\n"
     ]
    }
   ],
   "source": [
    "engine.run(num_iter=1)\n",
    "mps_dmrg_final = engine.mps"
   ]
  },
  {
   "cell_type": "code",
   "execution_count": 10,
   "metadata": {},
   "outputs": [
    {
     "name": "stdout",
     "output_type": "stream",
     "text": [
      "1.0\n"
     ]
    }
   ],
   "source": [
    "overlap = abs(inner_product(mps_dmrg_final, mps_dmrg_target))\n",
    "print(overlap)"
   ]
  },
  {
   "cell_type": "code",
   "execution_count": null,
   "metadata": {},
   "outputs": [],
   "source": []
  }
 ],
 "metadata": {
  "kernelspec": {
   "display_name": "mdopt-ZdbamFdU-py3.11",
   "language": "python",
   "name": "python3"
  },
  "language_info": {
   "codemirror_mode": {
    "name": "ipython",
    "version": 3
   },
   "file_extension": ".py",
   "mimetype": "text/x-python",
   "name": "python",
   "nbconvert_exporter": "python",
   "pygments_lexer": "ipython3",
   "version": "3.11.8"
  },
  "orig_nbformat": 4
 },
 "nbformat": 4,
 "nbformat_minor": 2
}
