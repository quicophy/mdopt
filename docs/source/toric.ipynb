{
 "cells": [
  {
   "cell_type": "markdown",
   "metadata": {},
   "source": [
    "# Decoding Quantum Toric Codes"
   ]
  },
  {
   "attachments": {},
   "cell_type": "markdown",
   "metadata": {},
   "source": [
    "In this experiment, we’ll use ``mdopt`` to compute the threshold of the toric code. Hereafter, we assume an independent noise model as well as perfect syndrome measurements."
   ]
  },
  {
   "cell_type": "code",
   "execution_count": 1,
   "metadata": {},
   "outputs": [],
   "source": [
    "import numpy as np\n",
    "from tqdm import tqdm\n",
    "import qecstruct as qc\n",
    "import qecsim.paulitools as pt\n",
    "import matplotlib.pyplot as plt\n",
    "from scipy.sparse import hstack, kron, eye, csc_matrix, block_diag\n",
    "\n",
    "from mdopt.mps.utils import marginalise, create_custom_product_state\n",
    "from mdopt.contractor.contractor import mps_mpo_contract\n",
    "from mdopt.optimiser.utils import (\n",
    "    SWAP,\n",
    "    COPY_LEFT,\n",
    "    XOR_BULK,\n",
    "    XOR_LEFT,\n",
    "    XOR_RIGHT,\n",
    ")\n",
    "from examples.decoding.decoding import (\n",
    "    css_code_checks,\n",
    "    css_code_logicals,\n",
    "    css_code_logicals_sites,\n",
    "    css_code_constraint_sites,\n",
    ")\n",
    "from examples.decoding.decoding import (\n",
    "    apply_constraints,\n",
    "    apply_bitflip_bias,\n",
    ")\n",
    "from examples.decoding.decoding import (\n",
    "    pauli_to_mps,\n",
    "    decode_shor,\n",
    ")"
   ]
  },
  {
   "cell_type": "code",
   "execution_count": 27,
   "metadata": {},
   "outputs": [],
   "source": [
    "def repetition_code(n):\n",
    "    \"\"\"\n",
    "    Parity check matrix of a repetition code with length n.\n",
    "    \"\"\"\n",
    "    row_ind, col_ind = zip(*((i, j) for i in range(n) for j in (i, (i + 1) % n)))\n",
    "    data = np.ones(2 * n, dtype=np.uint8)\n",
    "    return csc_matrix((data, (row_ind, col_ind)))\n",
    "\n",
    "\n",
    "def toric_code_x_checks(L):\n",
    "    \"\"\"\n",
    "    Sparse check matrix for the X stabilisers of a toric code with\n",
    "    lattice size L, constructed as the hypergraph product of\n",
    "    two repetition codes.\n",
    "    \"\"\"\n",
    "    Hr = repetition_code(L)\n",
    "    H = hstack(\n",
    "        [kron(Hr, eye(Hr.shape[1])), kron(eye(Hr.shape[0]), Hr.T)], dtype=np.uint8\n",
    "    )\n",
    "    H.data = H.data % 2\n",
    "    H.eliminate_zeros()\n",
    "    checks = csc_matrix(H).toarray()\n",
    "    return [list(np.nonzero(check)[0]) for check in checks]\n",
    "\n",
    "\n",
    "def toric_code_x_logicals(L):\n",
    "    \"\"\"\n",
    "    Sparse binary matrix with each row corresponding to an X logical operator\n",
    "    of a toric code with lattice size L. Constructed from the\n",
    "    homology groups of the repetition codes using the Kunneth\n",
    "    theorem.\n",
    "    \"\"\"\n",
    "    H1 = csc_matrix(([1], ([0], [0])), shape=(1, L), dtype=np.uint8)\n",
    "    H0 = csc_matrix(np.ones((1, L), dtype=np.uint8))\n",
    "    x_logicals = block_diag([kron(H1, H0), kron(H0, H1)])\n",
    "    x_logicals.data = x_logicals.data % 2\n",
    "    x_logicals.eliminate_zeros()\n",
    "    logicals = csc_matrix(x_logicals).toarray()\n",
    "    return [list(np.nonzero(logical)[0]) for logical in logicals]\n",
    "\n",
    "\n",
    "def toric_code_constraint_sites(L):\n",
    "    stabilizers = toric_code_x_checks(L)\n",
    "    sites_x = [np.nonzero(stabilizers[i])[0] for i in range(len(stabilizers))]\n",
    "    sites_x = [2 * site + 3 for site in sites_x]\n",
    "\n",
    "    constraints_strings_x = []\n",
    "\n",
    "    for sites in sites_x:\n",
    "        xor_left_sites_x = [sites[0]]\n",
    "        xor_bulk_sites_x = [sites[i] for i in range(1, len(sites) - 1)]\n",
    "        xor_right_sites_x = [sites[-1]]\n",
    "\n",
    "        swap_sites_x = list(range(sites[0] + 1, sites[-1]))\n",
    "        for k in range(1, len(sites) - 1):\n",
    "            swap_sites_x.remove(sites[k])\n",
    "\n",
    "        constraints_strings_x.append(\n",
    "            [xor_left_sites_x, xor_bulk_sites_x, swap_sites_x, xor_right_sites_x]\n",
    "        )\n",
    "\n",
    "    return constraints_strings_x\n",
    "\n",
    "\n",
    "def toric_code_logicals_sites(L):\n",
    "    sites = toric_code_x_logicals(L)\n",
    "    sites_x, sites_z = np.array(sites[0]), np.array(sites[1])\n",
    "    sites_x = list(2 * sites_x + 3)\n",
    "    sites_z = list(2 * sites_z + 3)\n",
    "\n",
    "    copy_site_x = [0]\n",
    "    copy_site_z = [1]\n",
    "\n",
    "    xor_right_site_x = [sites_x[-1]]\n",
    "    xor_right_site_z = [sites_z[-1]]\n",
    "\n",
    "    xor_bulk_sites_x = [sites_x[i] for i in range(len(sites_x) - 1)]\n",
    "    xor_bulk_sites_z = [sites_z[i] for i in range(len(sites_z) - 1)]\n",
    "\n",
    "    swap_sites_x = list(range(copy_site_x[0] + 1, xor_right_site_x[0]))\n",
    "    swap_sites_x = [site for site in swap_sites_x if site not in xor_bulk_sites_x]\n",
    "    swap_sites_z = list(range(copy_site_z[0] + 1, xor_right_site_z[0]))\n",
    "    swap_sites_z = [site for site in swap_sites_z if site not in xor_bulk_sites_z]\n",
    "\n",
    "    string_x = [copy_site_x, xor_bulk_sites_x, swap_sites_x, xor_right_site_x]\n",
    "    string_z = [copy_site_z, xor_bulk_sites_z, swap_sites_z, xor_right_site_z]\n",
    "\n",
    "    return string_x, string_z"
   ]
  },
  {
   "cell_type": "code",
   "execution_count": 28,
   "metadata": {},
   "outputs": [
    {
     "data": {
      "text/plain": [
       "[[[5], [7], [6, 8], [9]],\n",
       " [[3], [5, 7], [4, 6, 8], [9]],\n",
       " [[3], [5, 7], [4, 6, 8], [9]],\n",
       " [[3], [5, 7], [4, 6, 8], [9]],\n",
       " [[3], [5, 7], [4, 6, 8], [9]],\n",
       " [[3], [5, 7], [4, 6, 8], [9]],\n",
       " [[5], [7], [6, 8], [9]],\n",
       " [[3], [5, 7], [4, 6, 8], [9]],\n",
       " [[3], [5, 7], [4, 6, 8], [9]]]"
      ]
     },
     "execution_count": 28,
     "metadata": {},
     "output_type": "execute_result"
    }
   ],
   "source": [
    "toric_code_constraint_sites(L=3)"
   ]
  },
  {
   "cell_type": "code",
   "execution_count": 17,
   "metadata": {},
   "outputs": [],
   "source": [
    "sites = toric_code_x_logicals(L=3)\n",
    "sites_x, sites_z = np.array(sites[0]), np.array(sites[1])\n",
    "sites_x = list(2 * sites_x + 3)\n",
    "sites_z = list(2 * sites_z + 3)\n",
    "\n",
    "copy_site_x = [0]\n",
    "copy_site_z = [1]\n",
    "\n",
    "xor_right_site_x = [sites_x[-1]]\n",
    "xor_right_site_z = [sites_z[-1]]\n",
    "\n",
    "xor_bulk_sites_x = [sites_x[i] for i in range(len(sites_x) - 1)]\n",
    "xor_bulk_sites_z = [sites_z[i] for i in range(len(sites_z) - 1)]\n",
    "\n",
    "swap_sites_x = list(range(copy_site_x[0] + 1, xor_right_site_x[0]))\n",
    "swap_sites_x = [site for site in swap_sites_x if site not in xor_bulk_sites_x]\n",
    "swap_sites_z = list(range(copy_site_z[0] + 1, xor_right_site_z[0]))\n",
    "swap_sites_z = [site for site in swap_sites_z if site not in xor_bulk_sites_z]"
   ]
  },
  {
   "cell_type": "code",
   "execution_count": 24,
   "metadata": {},
   "outputs": [
    {
     "data": {
      "text/plain": [
       "[[[1], [2], [], [3]],\n",
       " [[0], [1, 2], [], [3]],\n",
       " [[0], [1, 2], [], [3]],\n",
       " [[0], [1, 2], [], [3]],\n",
       " [[0], [1, 2], [], [3]],\n",
       " [[0], [1, 2], [], [3]],\n",
       " [[1], [2], [], [3]],\n",
       " [[0], [1, 2], [], [3]],\n",
       " [[0], [1, 2], [], [3]]]"
      ]
     },
     "execution_count": 24,
     "metadata": {},
     "output_type": "execute_result"
    }
   ],
   "source": [
    "toric_code_constraint_sites(L=3)"
   ]
  },
  {
   "cell_type": "code",
   "execution_count": 19,
   "metadata": {},
   "outputs": [
    {
     "data": {
      "text/plain": [
       "[[0, 1, 2], [9, 12, 15]]"
      ]
     },
     "execution_count": 19,
     "metadata": {},
     "output_type": "execute_result"
    }
   ],
   "source": [
    "toric_code_x_logicals(L=3)"
   ]
  },
  {
   "cell_type": "code",
   "execution_count": 18,
   "metadata": {},
   "outputs": [
    {
     "data": {
      "text/plain": [
       "[21, 27, 33]"
      ]
     },
     "execution_count": 18,
     "metadata": {},
     "output_type": "execute_result"
    }
   ],
   "source": [
    "sites_z"
   ]
  },
  {
   "cell_type": "code",
   "execution_count": 16,
   "metadata": {},
   "outputs": [
    {
     "data": {
      "text/plain": [
       "([[0], [3, 5], [1, 2, 4, 6], [7]],\n",
       " [[1],\n",
       "  [21, 27],\n",
       "  [2,\n",
       "   3,\n",
       "   4,\n",
       "   5,\n",
       "   6,\n",
       "   7,\n",
       "   8,\n",
       "   9,\n",
       "   10,\n",
       "   11,\n",
       "   12,\n",
       "   13,\n",
       "   14,\n",
       "   15,\n",
       "   16,\n",
       "   17,\n",
       "   18,\n",
       "   19,\n",
       "   20,\n",
       "   22,\n",
       "   23,\n",
       "   24,\n",
       "   25,\n",
       "   26,\n",
       "   28,\n",
       "   29,\n",
       "   30,\n",
       "   31,\n",
       "   32],\n",
       "  [33]])"
      ]
     },
     "execution_count": 16,
     "metadata": {},
     "output_type": "execute_result"
    }
   ],
   "source": [
    "toric_code_logicals_sites(L=3)"
   ]
  },
  {
   "cell_type": "code",
   "execution_count": null,
   "metadata": {},
   "outputs": [],
   "source": []
  },
  {
   "cell_type": "code",
   "execution_count": null,
   "metadata": {},
   "outputs": [],
   "source": []
  },
  {
   "cell_type": "code",
   "execution_count": null,
   "metadata": {},
   "outputs": [],
   "source": [
    "toric_code_x_logicals(L=3)"
   ]
  },
  {
   "cell_type": "code",
   "execution_count": null,
   "metadata": {},
   "outputs": [],
   "source": [
    "[0, 3, 6] -> [3, 9, 15]\n",
    "[0, 1, 2] -> [2, 4, 6]"
   ]
  },
  {
   "cell_type": "code",
   "execution_count": null,
   "metadata": {},
   "outputs": [],
   "source": [
    "code = shor_code()\n",
    "log_matrix_x = code.z_logicals_binary()\n",
    "array_x = np.zeros((log_matrix_x.num_rows(), log_matrix_x.num_columns()), dtype=int)\n",
    "for row, cols in enumerate(log_matrix_x.rows()):\n",
    "    for col in cols:\n",
    "        array_x[row, col] = 1"
   ]
  },
  {
   "cell_type": "code",
   "execution_count": null,
   "metadata": {},
   "outputs": [],
   "source": [
    "array_x"
   ]
  },
  {
   "cell_type": "code",
   "execution_count": null,
   "metadata": {},
   "outputs": [],
   "source": []
  },
  {
   "cell_type": "code",
   "execution_count": null,
   "metadata": {},
   "outputs": [],
   "source": [
    "from qecstruct import shor_code"
   ]
  },
  {
   "cell_type": "code",
   "execution_count": null,
   "metadata": {},
   "outputs": [],
   "source": [
    "shor_code().x_logicals_binary()"
   ]
  },
  {
   "cell_type": "code",
   "execution_count": null,
   "metadata": {},
   "outputs": [],
   "source": [
    "shor_code().z_logicals_binary()"
   ]
  },
  {
   "cell_type": "code",
   "execution_count": null,
   "metadata": {},
   "outputs": [],
   "source": [
    "css_code_logicals(shor_code())"
   ]
  },
  {
   "cell_type": "code",
   "execution_count": null,
   "metadata": {},
   "outputs": [],
   "source": [
    "toric_code_x_logicals(3)"
   ]
  },
  {
   "cell_type": "code",
   "execution_count": null,
   "metadata": {},
   "outputs": [],
   "source": [
    "def css_code_logicals(code: CssCode):\n",
    "    \"\"\"\n",
    "    Returns the list of MPS sites where the logical constraints should be applied.\n",
    "\n",
    "    Parameters\n",
    "    ----------\n",
    "    code : qec.CssCode\n",
    "        The CSS code object.\n",
    "\n",
    "    Returns\n",
    "    -------\n",
    "    logicals : Tuple[List[int]]\n",
    "        List of logical operators, first X, then Z.\n",
    "    \"\"\"\n",
    "\n",
    "    log_matrix_x = code.z_logicals_binary()\n",
    "    array_x = np.zeros((log_matrix_x.num_rows(), log_matrix_x.num_columns()), dtype=int)\n",
    "    for row, cols in enumerate(log_matrix_x.rows()):\n",
    "        for col in cols:\n",
    "            array_x[row, col] = 1\n",
    "\n",
    "    log_matrix_z = code.x_logicals_binary()\n",
    "    array_z = np.zeros((log_matrix_z.num_rows(), log_matrix_z.num_columns()), dtype=int)\n",
    "    for row, cols in enumerate(log_matrix_z.rows()):\n",
    "        for col in cols:\n",
    "            array_z[row, col] = 1\n",
    "\n",
    "    x_logicals = [\n",
    "        2 * np.nonzero(row)[0] + code.num_x_logicals() + code.num_z_logicals() + 1\n",
    "        for row in array_x\n",
    "    ]\n",
    "    x_logicals = [list(x_logical) for x_logical in x_logicals]\n",
    "    z_logicals = [\n",
    "        2 * np.nonzero(row)[0] + code.num_x_logicals() + code.num_z_logicals()\n",
    "        for row in array_z\n",
    "    ]\n",
    "    z_logicals = [list(z_logical) for z_logical in z_logicals]\n",
    "\n",
    "    return z_logicals[0], x_logicals[0]"
   ]
  },
  {
   "cell_type": "code",
   "execution_count": null,
   "metadata": {},
   "outputs": [],
   "source": []
  },
  {
   "cell_type": "code",
   "execution_count": null,
   "metadata": {},
   "outputs": [],
   "source": [
    "[0, 1, 2] -> [2]"
   ]
  },
  {
   "cell_type": "code",
   "execution_count": null,
   "metadata": {},
   "outputs": [],
   "source": [
    "def decode_toric(\n",
    "    lattice_size: int,\n",
    "    error: str,\n",
    "    renormalise: bool = True,\n",
    "    silent: bool = False,\n",
    "):\n",
    "    \"\"\"\n",
    "    This function does error-based decoding of the toric code.\n",
    "    It takes as input an error string and returns the most likely Pauli correction.\n",
    "\n",
    "    Parameters\n",
    "    ----------\n",
    "    lattice_size : int\n",
    "        The lattice size of the toric code.\n",
    "    error : str\n",
    "        The error in a string format.\n",
    "        The way the decoder takes the error is as follows:\n",
    "        \"X_0 Z_0 X_1 Z_1 ...\"\n",
    "    renormalise : bool\n",
    "        Whether to renormalise the singular values during contraction.\n",
    "    silent : bool\n",
    "        Whether to show the progress bars or not.\n",
    "\n",
    "    Raises\n",
    "    ------\n",
    "    ValueError\n",
    "        If the error string length does not correspond to the code.\n",
    "    \"\"\"\n",
    "\n",
    "    num_logicals = 2\n",
    "    num_sites = 2 * lattice_size**2 + num_logicals\n",
    "\n",
    "    if len(error) != num_sites - num_logicals:\n",
    "        raise ValueError(\n",
    "            f\"The error length is {len(error)}, expected {num_sites - num_logicals}.\"\n",
    "        )\n",
    "\n",
    "    logicals_state = \"+\" * num_logicals\n",
    "    state_string = logicals_state + error\n",
    "    error_mps = create_custom_product_state(string=state_string)\n",
    "\n",
    "    constraints_tensors = [XOR_LEFT, XOR_BULK, SWAP, XOR_RIGHT]\n",
    "    logicals_tensors = [COPY_LEFT, XOR_BULK, SWAP, XOR_RIGHT]\n",
    "\n",
    "    constraints_sites = toric_code_constraint_sites(lattice_size)\n",
    "    logicals_sites = toric_code_logicals_sites(lattice_size)\n",
    "    sites_to_bias = list(range(num_logicals, num_sites))\n",
    "\n",
    "    error_mps = apply_bitflip_bias(\n",
    "        mps=error_mps, sites_to_bias=sites_to_bias, renormalise=renormalise\n",
    "    )\n",
    "\n",
    "    error_mps = apply_constraints(\n",
    "        error_mps,\n",
    "        constraints_sites[0],\n",
    "        constraints_tensors,\n",
    "        renormalise=renormalise,\n",
    "        silent=silent,\n",
    "    )\n",
    "    error_mps = apply_constraints(\n",
    "        error_mps,\n",
    "        constraints_sites[1],\n",
    "        constraints_tensors,\n",
    "        renormalise=renormalise,\n",
    "        silent=silent,\n",
    "    )\n",
    "    error_mps = apply_constraints(\n",
    "        error_mps,\n",
    "        logicals_sites,\n",
    "        logicals_tensors,\n",
    "        renormalise=renormalise,\n",
    "        silent=silent,\n",
    "    )\n",
    "\n",
    "    sites_to_marginalise = list(range(num_logicals, len(error) + num_logicals))\n",
    "    logical = marginalise(\n",
    "        mps=error_mps,\n",
    "        sites_to_marginalise=sites_to_marginalise,\n",
    "    ).dense(flatten=True, renormalise=True, norm=1)\n",
    "\n",
    "    if np.argmax(logical) == 0:\n",
    "        return \"I\", logical\n",
    "    if np.argmax(logical) == 1:\n",
    "        return \"X\", logical\n",
    "    if np.argmax(logical) == 2:\n",
    "        return \"Z\", logical\n",
    "    if np.argmax(logical) == 3:\n",
    "        return \"Y\", logical"
   ]
  },
  {
   "cell_type": "code",
   "execution_count": null,
   "metadata": {},
   "outputs": [],
   "source": [
    "shor_code().z_logicals_binary()"
   ]
  },
  {
   "cell_type": "code",
   "execution_count": null,
   "metadata": {},
   "outputs": [],
   "source": [
    "toric_code_x_logicals(3)"
   ]
  },
  {
   "cell_type": "code",
   "execution_count": null,
   "metadata": {},
   "outputs": [],
   "source": [
    "def css_code_logicals(code: CssCode):\n",
    "    \"\"\"\n",
    "    Returns the list of MPS sites where the logical constraints should be applied.\n",
    "\n",
    "    Parameters\n",
    "    ----------\n",
    "    code : qec.CssCode\n",
    "        The CSS code object.\n",
    "\n",
    "    Returns\n",
    "    -------\n",
    "    logicals : Tuple[List[int]]\n",
    "        List of logical operators, first X, then Z.\n",
    "    \"\"\"\n",
    "\n",
    "    log_matrix_x = code.z_logicals_binary()\n",
    "    array_x = np.zeros((log_matrix_x.num_rows(), log_matrix_x.num_columns()), dtype=int)\n",
    "    for row, cols in enumerate(log_matrix_x.rows()):\n",
    "        for col in cols:\n",
    "            array_x[row, col] = 1\n",
    "\n",
    "    log_matrix_z = code.x_logicals_binary()\n",
    "    array_z = np.zeros((log_matrix_z.num_rows(), log_matrix_z.num_columns()), dtype=int)\n",
    "    for row, cols in enumerate(log_matrix_z.rows()):\n",
    "        for col in cols:\n",
    "            array_z[row, col] = 1\n",
    "\n",
    "    x_logicals = [\n",
    "        2 * np.nonzero(row)[0] + code.num_x_logicals() + code.num_z_logicals() + 1\n",
    "        for row in array_x\n",
    "    ]\n",
    "    x_logicals = [list(x_logical) for x_logical in x_logicals]\n",
    "    z_logicals = [\n",
    "        2 * np.nonzero(row)[0] + code.num_x_logicals() + code.num_z_logicals()\n",
    "        for row in array_z\n",
    "    ]\n",
    "    z_logicals = [list(z_logical) for z_logical in z_logicals]\n",
    "\n",
    "    return z_logicals[0], x_logicals[0]"
   ]
  },
  {
   "cell_type": "code",
   "execution_count": null,
   "metadata": {},
   "outputs": [],
   "source": []
  },
  {
   "cell_type": "code",
   "execution_count": null,
   "metadata": {},
   "outputs": [],
   "source": []
  },
  {
   "cell_type": "code",
   "execution_count": null,
   "metadata": {},
   "outputs": [],
   "source": []
  },
  {
   "cell_type": "code",
   "execution_count": null,
   "metadata": {},
   "outputs": [],
   "source": [
    "css_code_logicals_sites(shor_code())[0]"
   ]
  },
  {
   "cell_type": "code",
   "execution_count": null,
   "metadata": {},
   "outputs": [],
   "source": [
    "toric_code_x_logicals(L=3)"
   ]
  },
  {
   "cell_type": "code",
   "execution_count": null,
   "metadata": {},
   "outputs": [],
   "source": []
  },
  {
   "cell_type": "code",
   "execution_count": null,
   "metadata": {},
   "outputs": [],
   "source": []
  },
  {
   "cell_type": "code",
   "execution_count": null,
   "metadata": {},
   "outputs": [],
   "source": []
  },
  {
   "cell_type": "code",
   "execution_count": null,
   "metadata": {},
   "outputs": [],
   "source": [
    "stabilizers = toric_code_x_stabilisers(L=3)\n",
    "logicals = toric_code_x_logicals(L=3)"
   ]
  },
  {
   "cell_type": "code",
   "execution_count": null,
   "metadata": {},
   "outputs": [],
   "source": [
    "stabilizers"
   ]
  },
  {
   "cell_type": "code",
   "execution_count": null,
   "metadata": {},
   "outputs": [],
   "source": [
    "logicals"
   ]
  },
  {
   "cell_type": "code",
   "execution_count": null,
   "metadata": {},
   "outputs": [],
   "source": []
  },
  {
   "cell_type": "code",
   "execution_count": null,
   "metadata": {},
   "outputs": [],
   "source": [
    "from examples.decoding.decoding import (\n",
    "    css_code_logicals,\n",
    "    css_code_logicals_sites,\n",
    "    css_code_checks,\n",
    ")\n",
    "from qecstruct import shor_code"
   ]
  },
  {
   "cell_type": "code",
   "execution_count": null,
   "metadata": {},
   "outputs": [],
   "source": [
    "css_code_checks(shor_code())"
   ]
  },
  {
   "cell_type": "code",
   "execution_count": null,
   "metadata": {},
   "outputs": [],
   "source": [
    "toric_code_x_logicals(3)"
   ]
  },
  {
   "cell_type": "code",
   "execution_count": null,
   "metadata": {},
   "outputs": [],
   "source": [
    "css_code_logicals(shor_code())"
   ]
  },
  {
   "cell_type": "code",
   "execution_count": null,
   "metadata": {},
   "outputs": [],
   "source": [
    "css_code_logicals_sites(shor_code())"
   ]
  },
  {
   "cell_type": "code",
   "execution_count": null,
   "metadata": {},
   "outputs": [],
   "source": []
  },
  {
   "cell_type": "code",
   "execution_count": null,
   "metadata": {},
   "outputs": [],
   "source": [
    "toric_code_x_logicals(L=3)"
   ]
  },
  {
   "cell_type": "code",
   "execution_count": null,
   "metadata": {},
   "outputs": [],
   "source": [
    "toric_code_logicals_sites(L=3)"
   ]
  },
  {
   "cell_type": "code",
   "execution_count": null,
   "metadata": {},
   "outputs": [],
   "source": []
  },
  {
   "cell_type": "code",
   "execution_count": null,
   "metadata": {},
   "outputs": [],
   "source": []
  },
  {
   "cell_type": "code",
   "execution_count": null,
   "metadata": {},
   "outputs": [],
   "source": []
  },
  {
   "cell_type": "code",
   "execution_count": null,
   "metadata": {},
   "outputs": [],
   "source": []
  }
 ],
 "metadata": {
  "kernelspec": {
   "display_name": "mdopt-ZdbamFdU-py3.11",
   "language": "python",
   "name": "python3"
  },
  "language_info": {
   "codemirror_mode": {
    "name": "ipython",
    "version": 3
   },
   "file_extension": ".py",
   "mimetype": "text/x-python",
   "name": "python",
   "nbconvert_exporter": "python",
   "pygments_lexer": "ipython3",
   "version": "3.11.8"
  },
  "orig_nbformat": 4,
  "vscode": {
   "interpreter": {
    "hash": "64c06a7280c9749d5771a76ca6109d7df6b2615ddb3b9b0828f83fb315c7f8a2"
   }
  }
 },
 "nbformat": 4,
 "nbformat_minor": 2
}
