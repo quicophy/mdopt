{
 "cells": [
  {
   "cell_type": "code",
   "execution_count": 1,
   "metadata": {},
   "outputs": [],
   "source": [
    "import os\n",
    "os.chdir('/Users/aleksandrberezutskii/Desktop/GitHub/MPOpt/')\n",
    "from mpopt.contractor.contractor import apply_one_site_unitary, apply_two_site_unitary, mps_mpo_contract\n",
    "from mpopt.mps.explicit import *\n",
    "from mpopt.mps.canonical import *\n",
    "from mpopt.utils.utils import *\n",
    "from tests.mps.test_explicit import _create_psi\n",
    "from experiments.decoding_classical import *\n",
    "import numpy as np\n",
    "import qecstruct as qec\n",
    "\n",
    "# TODO's\n",
    "# check out the sanity tests they have in TenPy\n",
    "# check out typing for fixing types of variables in functions\n",
    "# dtypes: complex64/32? float64/32?\n",
    "# bond dimensions check: mpss and mpos\n",
    "# compress method for mps"
   ]
  },
  {
   "cell_type": "code",
   "execution_count": 2,
   "metadata": {},
   "outputs": [],
   "source": [
    "XOR_BULK = np.zeros((2, 2, 2, 2))\n",
    "for i in range(2):\n",
    "    for j in range(2):\n",
    "        for k in range(2):\n",
    "            for l in range(2):\n",
    "                XOR_BULK[i, j, k, l] = (i ^ j ^ k ^ 1) * np.eye(2)[k, l]\n",
    "\n",
    "XOR_LEFT = np.zeros((1, 2, 2, 2))\n",
    "for j in range(2):\n",
    "    for k in range(2):\n",
    "        for l in range(2):\n",
    "            XOR_LEFT[0, j, k, l] = np.eye(2)[j, k] * np.eye(2)[k, l]\n",
    "\n",
    "XOR_RIGHT = np.zeros((2, 1, 2, 2))\n",
    "for i in range(2):\n",
    "    for k in range(2):\n",
    "        for l in range(2):\n",
    "            XOR_RIGHT[i, 0, k, l] = np.eye(2)[i, k] * np.eye(2)[k, l]\n",
    "\n",
    "SWAP = np.zeros((2, 2, 2, 2))\n",
    "for i in range(2):\n",
    "    for j in range(2):\n",
    "        for k in range(2):\n",
    "            for l in range(2):\n",
    "                SWAP[i, j, k, l] = np.eye(2)[i, j] * np.eye(2)[k, l]\n",
    "\n",
    "tensors = [XOR_LEFT, XOR_BULK, SWAP, XOR_RIGHT]"
   ]
  },
  {
   "cell_type": "code",
   "execution_count": 71,
   "metadata": {},
   "outputs": [
    {
     "name": "stdout",
     "output_type": "stream",
     "text": [
      "DMRG running:\n"
     ]
    },
    {
     "name": "stderr",
     "output_type": "stream",
     "text": [
      "100%|██████████| 20/20 [00:00<00:00, 36.04it/s]"
     ]
    },
    {
     "name": "stdout",
     "output_type": "stream",
     "text": [
      "The overlap of the density MPO main component and the initial codeword state:  0.8100000000000002\n",
      "__________________________________________________________________________________________\n"
     ]
    },
    {
     "name": "stderr",
     "output_type": "stream",
     "text": [
      "\n"
     ]
    }
   ],
   "source": [
    "NUM_BITS = 4\n",
    "NUM_CHECKS = 3\n",
    "BIT_DEGREE = 3\n",
    "CHECK_DEGREE = 4\n",
    "PROB_CHANNEL = 0.1\n",
    "PROB_ERROR = 0.1\n",
    "if NUM_BITS / NUM_CHECKS != CHECK_DEGREE / BIT_DEGREE:\n",
    "    raise ValueError(\"The graph must be bipartite.\")\n",
    "\n",
    "# Constructing the code as a qecstruct object.\n",
    "example_code = qec.random_regular_code(\n",
    "    NUM_BITS, NUM_CHECKS, BIT_DEGREE, CHECK_DEGREE, qec.Rng()\n",
    ")\n",
    "\n",
    "# Getting the sites for which the constraints should be applied.\n",
    "sites_all = linear_code_checks(example_code)\n",
    "\n",
    "# Rebuilding the sites lists as used in the ConstrainedString class.\n",
    "strings = []\n",
    "for _, sublist in enumerate(sites_all):\n",
    "\n",
    "    # Retreiving the sites indices where we apply the \"bulk\"/\"boundary\" XOR tensors.\n",
    "    xor_left_sites = [sublist[0]]\n",
    "    xor_bulk_sites = [sublist[i] for i in range(1, CHECK_DEGREE - 1)]\n",
    "    xor_right_sites = [sublist[-1]]\n",
    "\n",
    "    # Retreiving the sites indices where we apply the SWAP tensors.\n",
    "    swap_sites = list(range(sublist[0] + 1, sublist[-1]))\n",
    "    for k in range(1, CHECK_DEGREE - 1):\n",
    "        swap_sites.remove(sublist[k])\n",
    "\n",
    "    strings.append([xor_left_sites, xor_bulk_sites, swap_sites, xor_right_sites])\n",
    "\n",
    "# Building an initial and a perturbed codeword.\n",
    "INITIAL_CODEWORD = example_code.random_codeword(qec.Rng())\n",
    "PERTURBED_CODEWORD = INITIAL_CODEWORD + qec.BinarySymmetricChannel(\n",
    "    PROB_ERROR\n",
    ").sample(NUM_BITS, qec.Rng())\n",
    "INITIAL_CODEWORD = \"\".join(str(bit) for bit in bin_vec_to_dense(INITIAL_CODEWORD))\n",
    "PERTURBED_CODEWORD = \"\".join(\n",
    "    str(bit) for bit in bin_vec_to_dense(PERTURBED_CODEWORD)\n",
    ")\n",
    "\n",
    "# Building the corresponding MPSs.\n",
    "initial_codeword_state = create_custom_product_state(\n",
    "    INITIAL_CODEWORD\n",
    ").to_right_canonical()\n",
    "perturbed_codeword_state = create_custom_product_state(\n",
    "    PERTURBED_CODEWORD\n",
    ").to_right_canonical()\n",
    "\n",
    "# Passing the perturbed codeword state through the bias channel.\n",
    "bias_channel = [binary_symmetric_channel(PROB_CHANNEL) for _ in range(NUM_BITS)]\n",
    "perturbed_codeword_state = mps_mpo_contract(\n",
    "    perturbed_codeword_state, bias_channel, 0\n",
    ")\n",
    "\n",
    "# Passing the perturbed codeword state through the parity constraints defined by the code.\n",
    "for i in range(NUM_CHECKS):\n",
    "\n",
    "    orth_centre_init = find_orth_centre(perturbed_codeword_state)[0]\n",
    "\n",
    "    constraint_string = ConstraintString(tensors, strings[i])\n",
    "    constraint_mpo = constraint_string.get_mpo()\n",
    "\n",
    "    START_SITE = min(constraint_string.flat())\n",
    "\n",
    "    perturbed_codeword_state = move_orth_centre(\n",
    "        perturbed_codeword_state, orth_centre_init, START_SITE\n",
    "    )\n",
    "    perturbed_codeword = mps_mpo_contract(\n",
    "        perturbed_codeword_state, constraint_mpo, START_SITE\n",
    "    )\n",
    "\n",
    "# Building the density matrix MPO.\n",
    "density_mpo = to_density_mpo(perturbed_codeword_state)\n",
    "\n",
    "print(\"DMRG running:\")\n",
    "\n",
    "# Creating a random product state to start the DMRG with.\n",
    "INIT_STATE_DMRG = \"\".join(\n",
    "    str(bit) for bit in np.random.randint(low=0, high=2, size=NUM_BITS, dtype=np.int32)\n",
    ")\n",
    "mps_dmrg_start = create_custom_product_state(INIT_STATE_DMRG)\n",
    "\n",
    "engine = dmrg(mps_dmrg_start, density_mpo, chi_max=128, cut=1e-14, mode=\"LA\")\n",
    "engine.run(20)\n",
    "mps_dmrg_final = engine.mps.to_right_canonical()\n",
    "\n",
    "print(\n",
    "    \"The overlap of the density MPO main component and the initial codeword state: \",\n",
    "    inner_product(mps_dmrg_final, initial_codeword_state),\n",
    ")\n",
    "print(\n",
    "    \"__________________________________________________________________________________________\"\n",
    ")"
   ]
  },
  {
   "cell_type": "code",
   "execution_count": 4,
   "metadata": {},
   "outputs": [],
   "source": [
    "from more_itertools import powerset"
   ]
  },
  {
   "cell_type": "code",
   "execution_count": 65,
   "metadata": {},
   "outputs": [],
   "source": [
    "def get_words(code):\n",
    "    \"\"\"\n",
    "    Return the list of codewords of a linear code. Codewords are returned\n",
    "    as integers in most-significant-bit-first convention.\n",
    "\n",
    "    Arguments:\n",
    "        code : qecstruct.LinearCode\n",
    "            Linear code object.\n",
    "\n",
    "    Returns:\n",
    "        codewords : list of ints\n",
    "            List of codewords.\n",
    "    \"\"\"\n",
    "\n",
    "    length = code.length()\n",
    "    codewords = []\n",
    "\n",
    "    for word in range(2 ** length):\n",
    "        msg = np.array(list(np.binary_repr(word, length)), dtype=np.int32)\n",
    "        vec = qec.BinaryVector(length, np.flatnonzero(msg))\n",
    "        if code.has_codeword(vec):\n",
    "            codewords.append(word)\n",
    "\n",
    "    return np.array(codewords)"
   ]
  },
  {
   "cell_type": "code",
   "execution_count": 48,
   "metadata": {},
   "outputs": [],
   "source": [
    "codewords = []\n",
    "gen_mat = example_code.gen_mat()\n",
    "rows_bin = gen_mat.rows()\n",
    "rows_dense = [bin_vec_to_dense(row_bin) for row_bin in rows_bin]\n",
    "rows_int = [row.dot(1 << np.arange(row.size)[::-1]) for row in rows_dense]\n",
    "\n",
    "for gens in powerset(rows_int):\n",
    "    codewords.append(sum(gens))"
   ]
  },
  {
   "cell_type": "code",
   "execution_count": 43,
   "metadata": {},
   "outputs": [
    {
     "data": {
      "text/plain": [
       "[0, 1]"
      ]
     },
     "execution_count": 43,
     "metadata": {},
     "output_type": "execute_result"
    }
   ],
   "source": [
    "qec.BinaryVector(NUM_BITS, np.flatnonzero(rows_dense[0]))"
   ]
  },
  {
   "cell_type": "code",
   "execution_count": 45,
   "metadata": {},
   "outputs": [
    {
     "data": {
      "text/plain": [
       "[0, 1]\n",
       "[0, 2]\n",
       "[0, 3]"
      ]
     },
     "execution_count": 45,
     "metadata": {},
     "output_type": "execute_result"
    }
   ],
   "source": [
    "gen_mat"
   ]
  },
  {
   "cell_type": "code",
   "execution_count": 98,
   "metadata": {},
   "outputs": [
    {
     "name": "stderr",
     "output_type": "stream",
     "text": [
      "/var/folders/l8/sv77sl0155l_p56w23fb7vlc0000gn/T/ipykernel_81122/3142374927.py:1: DeprecationWarning: Insufficient bit width provided. This behavior will raise an error in the future.\n",
      "  [np.binary_repr(x, NUM_BITS) for x in codewords]\n"
     ]
    },
    {
     "data": {
      "text/plain": [
       "['0000', '1100', '1010', '1001', '10110', '10101', '10011', '11111']"
      ]
     },
     "execution_count": 98,
     "metadata": {},
     "output_type": "execute_result"
    }
   ],
   "source": [
    "[np.binary_repr(x, NUM_BITS) for x in codewords]"
   ]
  },
  {
   "cell_type": "code",
   "execution_count": 88,
   "metadata": {},
   "outputs": [
    {
     "data": {
      "text/plain": [
       "['0000', '0011', '0101', '0110', '1001', '1010', '1100', '1111']"
      ]
     },
     "execution_count": 88,
     "metadata": {},
     "output_type": "execute_result"
    }
   ],
   "source": [
    "[np.binary_repr(x, NUM_BITS) for x in get_words(example_code)]"
   ]
  },
  {
   "cell_type": "code",
   "execution_count": 97,
   "metadata": {},
   "outputs": [],
   "source": [
    "for i in range(100000):\n",
    "    cand = ''.join(str(x) for x in bin_vec_to_dense(example_code.random_codeword(qec.Rng())))\n",
    "    if cand not in [np.binary_repr(x, NUM_BITS) for x in get_words(example_code)]:\n",
    "        print(False, cand)"
   ]
  },
  {
   "cell_type": "code",
   "execution_count": null,
   "metadata": {},
   "outputs": [],
   "source": [
    "[np.binary_repr(x, width=NUM_BITS) for x in get_codewords(example_code)]"
   ]
  },
  {
   "cell_type": "code",
   "execution_count": null,
   "metadata": {},
   "outputs": [],
   "source": []
  }
 ],
 "metadata": {
  "interpreter": {
   "hash": "4167d9f0fa9e3872b42e6561777e0b0007d7a50552a1e7c79ef538086916f016"
  },
  "kernelspec": {
   "display_name": "Python 3.8.12 ('base')",
   "language": "python",
   "name": "python3"
  },
  "language_info": {
   "codemirror_mode": {
    "name": "ipython",
    "version": 3
   },
   "file_extension": ".py",
   "mimetype": "text/x-python",
   "name": "python",
   "nbconvert_exporter": "python",
   "pygments_lexer": "ipython3",
   "version": "3.8.12"
  },
  "orig_nbformat": 4
 },
 "nbformat": 4,
 "nbformat_minor": 2
}
