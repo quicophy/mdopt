{
 "cells": [
  {
   "cell_type": "code",
   "execution_count": null,
   "metadata": {},
   "outputs": [],
   "source": [
    "SEED = 123\n",
    "NUM_BITS, NUM_CHECKS = 10, 6\n",
    "CHECK_DEGREE, BIT_DEGREE = 5, 3\n",
    "if NUM_BITS / NUM_CHECKS != CHECK_DEGREE / BIT_DEGREE:\n",
    "    raise ValueError(\"The Tanner graph of the code must be bipartite.\")\n",
    "code = qec.random_regular_code(\n",
    "    NUM_BITS,\n",
    "    NUM_CHECKS,\n",
    "    BIT_DEGREE,\n",
    "    CHECK_DEGREE,\n",
    "    qec.Rng(SEED)\n",
    "    )\n",
    "hgpc = qec.hypergraph_product(code, code)\n",
    "num_sites = 2 * hgpc.length() + hgpc.num_x_logicals() + hgpc.num_z_logicals()\n",
    "num_logicals = hgpc.num_x_logicals() + hgpc.num_z_logicals()\n",
    "error = \"0\" * num_sites\n",
    "string_state = \"+\" * num_logicals + error\n",
    "error_state = create_custom_product_state(string=string_state, form=\"Right-canonical\")\n",
    "constraints_tensors = [XOR_LEFT, XOR_BULK, SWAP, XOR_RIGHT]\n",
    "logicals_tensors = [COPY_LEFT, XOR_BULK, SWAP, XOR_RIGHT]\\\n",
    "\n",
    "CHI_MAX = 64"
   ]
  },
  {
   "cell_type": "code",
   "execution_count": null,
   "metadata": {},
   "outputs": [],
   "source": [
    "constraints_sites = css_code_constraint_sites(hgpc)\n",
    "logicals_sites = css_code_logicals_sites(hgpc)"
   ]
  },
  {
   "cell_type": "code",
   "execution_count": null,
   "metadata": {},
   "outputs": [],
   "source": [
    "renormalise = True\n",
    "error_state = apply_bias_channel(\n",
    "    basis_mps=error_state, basis_string=string_state, prob_channel=0.1\n",
    ")"
   ]
  },
  {
   "cell_type": "code",
   "execution_count": null,
   "metadata": {},
   "outputs": [],
   "source": [
    "error_state = apply_constraints(\n",
    "    error_state,\n",
    "    constraints_sites[0],\n",
    "    constraints_tensors,\n",
    "    renormalise=renormalise,\n",
    "    chi_max=CHI_MAX,\n",
    ")\n",
    "error_state = apply_constraints(\n",
    "    error_state,\n",
    "    constraints_sites[1],\n",
    "    constraints_tensors,\n",
    "    renormalise=renormalise,\n",
    "    chi_max=CHI_MAX,\n",
    ")\n",
    "error_state = apply_constraints(\n",
    "    error_state,\n",
    "    logicals_sites,\n",
    "    logicals_tensors,\n",
    "    renormalise=renormalise,\n",
    "    chi_max=CHI_MAX,\n",
    ")"
   ]
  },
  {
   "cell_type": "code",
   "execution_count": null,
   "metadata": {},
   "outputs": [],
   "source": [
    "sites_to_marginalise = list(range(num_logicals, len(error_state)))"
   ]
  },
  {
   "cell_type": "code",
   "execution_count": null,
   "metadata": {},
   "outputs": [],
   "source": [
    "logicals = marginalise(mps=error_state, sites_to_marginalise=sites_to_marginalise)"
   ]
  },
  {
   "cell_type": "code",
   "execution_count": null,
   "metadata": {},
   "outputs": [],
   "source": [
    "num_sites_dmrg = len(logical)\n",
    "mps_start_dmrg = create_simple_product_state(num_sites_dmrg, which=\"+\")\n",
    "engine = DephasingDMRG(\n",
    "    mps_dmrg_start,\n",
    "    message, #??? all zeros\n",
    "    chi_max=chi_max_dmrg,\n",
    "    cut=cut,\n",
    "    mode=\"LA\",\n",
    "    silent=silent,\n",
    ")"
   ]
  },
  {
   "cell_type": "code",
   "execution_count": null,
   "metadata": {},
   "outputs": [],
   "source": []
  }
 ],
 "metadata": {
  "language_info": {
   "name": "python"
  },
  "orig_nbformat": 4
 },
 "nbformat": 4,
 "nbformat_minor": 2
}
