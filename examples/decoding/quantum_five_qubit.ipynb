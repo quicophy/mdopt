{
 "cells": [
  {
   "cell_type": "markdown",
   "metadata": {},
   "source": [
    "# Decoding 5-qubit code"
   ]
  },
  {
   "cell_type": "markdown",
   "metadata": {},
   "source": [
    "In this experiment, we decode the 5-qubit code using ``mdopt``. Here, we demonstrate direct-error input decoding, which means that the decoder takes a Pauli error as input and outputs the most likely logical operator. This pipeline is sufficient for threshold computation. After each run, the algorithm yields a probability distribution over the Pauli operators (I, X, Z, Y) to apply to the encoded logical qubit."
   ]
  },
  {
   "cell_type": "code",
   "execution_count": 1,
   "metadata": {},
   "outputs": [],
   "source": [
    "import numpy as np\n",
    "import qecsim.paulitools as pt\n",
    "import matplotlib.pyplot as plt\n",
    "from matplotlib import colormaps\n",
    "from matplotlib.colors import LogNorm, Normalize\n",
    "from matplotlib.ticker import FuncFormatter, FormatStrFormatter\n",
    "from tqdm import tqdm\n",
    "from scipy.stats import sem\n",
    "\n",
    "from mdopt.mps.utils import create_custom_product_state\n",
    "from mdopt.contractor.contractor import mps_mpo_contract\n",
    "from mdopt.optimiser.utils import (\n",
    "    apply_constraints,\n",
    "    SWAP,\n",
    "    COPY_LEFT,\n",
    "    XOR_BULK,\n",
    "    XOR_LEFT,\n",
    "    XOR_RIGHT,\n",
    ")\n",
    "\n",
    "from examples.decoding.decoding import (\n",
    "    custom_code_checks,\n",
    "    custom_code_logicals,\n",
    "    custom_code_logicals_sites,\n",
    "    custom_code_constraint_sites,\n",
    "    apply_bitflip_bias,\n",
    "    apply_depolarising_bias,\n",
    "    pauli_to_mps,\n",
    "    decode_custom,\n",
    "    css_code_stabilisers,\n",
    "    multiply_pauli_strings,\n",
    "    map_distribution_to_pauli,\n",
    "    generate_pauli_error_string,\n",
    ")\n",
    "from examples.decoding.visualisation import plot_parity_check_mpo"
   ]
  },
  {
   "cell_type": "markdown",
   "metadata": {},
   "source": [
    "Let us first define the code. Here, we won't be using `qecstruct` as in the other examples because it lacks the machinery we need. Instead, we define the code as a list of stabilizers and logical operators."
   ]
  },
  {
   "cell_type": "code",
   "execution_count": 2,
   "metadata": {},
   "outputs": [],
   "source": [
    "stabilizer_generators = [\n",
    "    \"XZZXI\",\n",
    "    \"IXZZX\",\n",
    "    \"XIXZZ\",\n",
    "    \"ZXIXZ\",\n",
    "]\n",
    "x_logical_operators = [\n",
    "    \"XXXXX\",\n",
    "]\n",
    "z_logical_operators = [\n",
    "    \"ZZZZZ\",\n",
    "]\n",
    "logical_operators = x_logical_operators + z_logical_operators\n",
    "num_qubits = len(stabilizer_generators[0])"
   ]
  },
  {
   "cell_type": "markdown",
   "metadata": {},
   "source": [
    "Let us first take a look at the code in terms of the MPS sites where the checks will be applied."
   ]
  },
  {
   "cell_type": "code",
   "execution_count": 3,
   "metadata": {},
   "outputs": [
    {
     "name": "stdout",
     "output_type": "stream",
     "text": [
      "Stabilizer generators:\n",
      "[2, 5, 7, 8]\n",
      "[4, 7, 9, 10]\n",
      "[2, 6, 9, 11]\n",
      "[3, 4, 8, 11]\n"
     ]
    }
   ],
   "source": [
    "checks = custom_code_checks(stabilizer_generators, logical_operators)\n",
    "\n",
    "print(\"Stabilizer generators:\")\n",
    "for check in checks:\n",
    "    print(check)"
   ]
  },
  {
   "cell_type": "markdown",
   "metadata": {},
   "source": [
    "We now transform this into lists of sites where all the logical constraints are applied."
   ]
  },
  {
   "cell_type": "code",
   "execution_count": 4,
   "metadata": {},
   "outputs": [
    {
     "name": "stdout",
     "output_type": "stream",
     "text": [
      "MPS constraint sites:\n",
      "[[2], [5, 7], [3, 4, 6], [8]]\n",
      "[[4], [7, 9], [5, 6, 8], [10]]\n",
      "[[2], [6, 9], [3, 4, 5, 7, 8, 10], [11]]\n",
      "[[3], [4, 8], [5, 6, 7, 9, 10], [11]]\n"
     ]
    }
   ],
   "source": [
    "constraint_sites = custom_code_constraint_sites(\n",
    "    stabilizer_generators, logical_operators\n",
    ")\n",
    "\n",
    "print(\"MPS constraint sites:\")\n",
    "for string in constraint_sites:\n",
    "    print(string)"
   ]
  },
  {
   "cell_type": "code",
   "execution_count": 5,
   "metadata": {},
   "outputs": [
    {
     "name": "stdout",
     "output_type": "stream",
     "text": [
      "Logical operators:\n",
      "[[2, 4, 6, 8, 10]]\n",
      "[[3, 5, 7, 9, 11]]\n"
     ]
    }
   ],
   "source": [
    "logicals = custom_code_logicals(x_logical_operators, z_logical_operators)\n",
    "\n",
    "print(\"Logical operators:\")\n",
    "print(logicals[0])\n",
    "print(logicals[1])"
   ]
  },
  {
   "cell_type": "code",
   "execution_count": 6,
   "metadata": {},
   "outputs": [
    {
     "name": "stdout",
     "output_type": "stream",
     "text": [
      "MPS logical constraint sites:\n",
      "[[[0], [2, 4, 6, 8], [1, 3, 5, 7, 9], [10]]]\n",
      "[[[1], [3, 5, 7, 9], [2, 4, 6, 8, 10], [11]]]\n"
     ]
    }
   ],
   "source": [
    "logicals_sites = custom_code_logicals_sites(x_logical_operators, z_logical_operators)\n",
    "\n",
    "print(\"MPS logical constraint sites:\")\n",
    "print(logicals_sites[0])\n",
    "print(logicals_sites[1])"
   ]
  },
  {
   "cell_type": "markdown",
   "metadata": {},
   "source": [
    "This quantum error correcting code is defined on $5$ physical qubits and has $2$ logical operators because it encodes $1$ logical qubit. This means we will need $5*2 + 2 = 12$ sites in our MPS."
   ]
  },
  {
   "cell_type": "code",
   "execution_count": 7,
   "metadata": {},
   "outputs": [],
   "source": [
    "num_logicals = len(x_logical_operators) + len(z_logical_operators)\n",
    "num_sites = 2 * len(stabilizer_generators[0]) + num_logicals\n",
    "\n",
    "assert num_sites == 12\n",
    "assert num_logicals == 2"
   ]
  },
  {
   "cell_type": "markdown",
   "metadata": {},
   "source": [
    "Now, let us define the initial state. First of all we will check that no error implies no correction. This means starting from the all-zero state followed by decoding will return the all-zero state for the logical operators (the final logical operator will thus be identity operator). Thus, we start from the all-zero state for the error and the $|+\\rangle$ state for the logicals."
   ]
  },
  {
   "cell_type": "code",
   "execution_count": 8,
   "metadata": {},
   "outputs": [],
   "source": [
    "error_state = \"0\" * (num_sites - num_logicals)\n",
    "logicals_state = \"+\" * num_logicals\n",
    "state_string = logicals_state + error_state\n",
    "error_mps = create_custom_product_state(\n",
    "    string=state_string, tolerance=1e-17, form=\"Right-canonical\"\n",
    ")"
   ]
  },
  {
   "cell_type": "markdown",
   "metadata": {},
   "source": [
    "The lists of sites in the previous cells identify the sites where we will apply the XOR constraints. However, the MPOs will also consist of other tensors, such as SWAPs (a.k.a. the tensors' legs crossings) and boundary XOR constraints. In what follows, we define the list of these auxiliary tensors."
   ]
  },
  {
   "cell_type": "code",
   "execution_count": 9,
   "metadata": {},
   "outputs": [],
   "source": [
    "constraints_tensors = [XOR_LEFT, XOR_BULK, SWAP, XOR_RIGHT]\n",
    "logicals_tensors = [COPY_LEFT, XOR_BULK, SWAP, XOR_RIGHT]"
   ]
  },
  {
   "cell_type": "markdown",
   "metadata": {},
   "source": [
    "Now the fun part, MPS-MPO contraction. But first, we apply the bias channel to our error state. This is done to bias our output towards the received input. This is done by distributing the amplitude around the initial basis product state to other basis product states in the descending order by Hamming distance."
   ]
  },
  {
   "cell_type": "code",
   "execution_count": 10,
   "metadata": {},
   "outputs": [],
   "source": [
    "renormalise = True\n",
    "sites_to_bias = list(range(num_logicals, num_sites))\n",
    "error_mps = apply_bitflip_bias(\n",
    "    mps=error_mps,\n",
    "    prob_bias_list=0.01,\n",
    "    sites_to_bias=sites_to_bias,\n",
    ")"
   ]
  },
  {
   "cell_type": "code",
   "execution_count": 11,
   "metadata": {},
   "outputs": [
    {
     "name": "stderr",
     "output_type": "stream",
     "text": [
      "100%|██████████| 1/1 [00:00<00:00, 161.76it/s]\n",
      "100%|██████████| 1/1 [00:00<00:00, 133.74it/s]\n",
      "100%|██████████| 4/4 [00:00<00:00, 128.54it/s]\n"
     ]
    }
   ],
   "source": [
    "entropies, bond_dims = [], []\n",
    "\n",
    "# for the X and the Z logicals\n",
    "for i in [0, 1]:\n",
    "    error_mps, entrps, bnd_dims = apply_constraints(\n",
    "        error_mps,\n",
    "        logicals_sites[i],\n",
    "        logicals_tensors,\n",
    "        cut=1e-17,\n",
    "        chi_max=1e4,\n",
    "        renormalise=renormalise,\n",
    "        strategy=\"Optimised\",\n",
    "        return_entropies_and_bond_dims=True,\n",
    "    )\n",
    "    entropies += entrps\n",
    "    bond_dims += bnd_dims\n",
    "\n",
    "# for the stabilizer checks\n",
    "error_mps, entrps, bnd_dims = apply_constraints(\n",
    "    error_mps,\n",
    "    constraint_sites,\n",
    "    constraints_tensors,\n",
    "    cut=1e-17,\n",
    "    chi_max=1e4,\n",
    "    renormalise=renormalise,\n",
    "    strategy=\"Optimised\",\n",
    "    return_entropies_and_bond_dims=True,\n",
    ")\n",
    "entropies += entrps\n",
    "bond_dims += bnd_dims"
   ]
  },
  {
   "cell_type": "markdown",
   "metadata": {},
   "source": [
    "Let us now take a look at how the bond dimensions and entropies behave throughout the decoding process while applying the parity checks."
   ]
  },
  {
   "cell_type": "code",
   "execution_count": 12,
   "metadata": {},
   "outputs": [
    {
     "data": {
      "image/png": "[encoded data removed]",
      "text/plain": [
       "<Figure size 400x300 with 2 Axes>"
      ]
     },
     "metadata": {},
     "output_type": "display_data"
    }
   ],
   "source": [
    "plt.figure(figsize=(4, 3))\n",
    "plt.imshow(entropies, cmap=\"viridis\")\n",
    "plt.colorbar(label=\"Entropy\")\n",
    "plt.xlabel(\"Site number\")\n",
    "plt.ylabel(\"Time ←\")\n",
    "plt.show()"
   ]
  },
  {
   "cell_type": "code",
   "execution_count": 13,
   "metadata": {},
   "outputs": [
    {
     "data": {
      "image/png": "[encoded data removed]",
      "text/plain": [
       "<Figure size 400x300 with 2 Axes>"
      ]
     },
     "metadata": {},
     "output_type": "display_data"
    }
   ],
   "source": [
    "plt.figure(figsize=(4, 3))\n",
    "plt.imshow(bond_dims, cmap=\"viridis\", norm=LogNorm(vmin=2**1, vmax=2**10))\n",
    "cbar = plt.colorbar(\n",
    "    label=\"Bond dimension\",\n",
    "    format=FuncFormatter(lambda x, pos: f\"$2^{{{int(np.log2(x))}}}$\"),\n",
    "    ticks=[2**i for i in range(1, 11, 3)],\n",
    ")\n",
    "plt.ylabel(\"Time ←\")\n",
    "plt.xlabel(\"Site number\")\n",
    "plt.show()"
   ]
  },
  {
   "cell_type": "markdown",
   "metadata": {},
   "source": [
    "Let's now take a look at how the truncation error behaves for different bond dimension cutoffs. First, let's look at the bond dimensions appearing in the MPS if we do not impose any truncation."
   ]
  },
  {
   "cell_type": "code",
   "execution_count": 14,
   "metadata": {},
   "outputs": [
    {
     "name": "stdout",
     "output_type": "stream",
     "text": [
      "[2, 4, 8, 16, 32, 64, 32, 16, 8, 4, 2]\n"
     ]
    }
   ],
   "source": [
    "print(error_mps.bond_dimensions)"
   ]
  },
  {
   "cell_type": "code",
   "execution_count": 15,
   "metadata": {},
   "outputs": [
    {
     "name": "stderr",
     "output_type": "stream",
     "text": [
      "100%|██████████| 8/8 [00:00<00:00, 24.25it/s]\n"
     ]
    }
   ],
   "source": [
    "bond_dims = [np.inf, 128, 64, 32, 16, 8, 4, 2]\n",
    "inv_bond_dims = [1 / bd for bd in bond_dims]\n",
    "errors = []\n",
    "for chi in tqdm(bond_dims):\n",
    "    errors.append(\n",
    "        np.linalg.norm(\n",
    "            error_mps.compress(\n",
    "                chi_max=chi, renormalise=True, return_truncation_errors=True\n",
    "            )[1]\n",
    "        )\n",
    "    )"
   ]
  },
  {
   "cell_type": "code",
   "execution_count": 16,
   "metadata": {},
   "outputs": [
    {
     "data": {
      "image/png": "[encoded data removed]",
      "text/plain": [
       "<Figure size 400x300 with 1 Axes>"
      ]
     },
     "metadata": {},
     "output_type": "display_data"
    }
   ],
   "source": [
    "plt.figure(figsize=(4, 3))\n",
    "plt.plot(inv_bond_dims, errors, marker=\"o\", label=\"Truncation Error\")\n",
    "plt.xlabel(\"Inverse Max Bond Dimension\")\n",
    "plt.ylabel(\"Truncation Error\")\n",
    "plt.grid(True)\n",
    "plt.yscale(\"log\")\n",
    "plt.legend()\n",
    "plt.show()"
   ]
  },
  {
   "cell_type": "markdown",
   "metadata": {},
   "source": [
    "Now, we marginalise over the message bits to get the probability distribution over the four possibilities of a logical operator: $I$, $X$, $Z$, $Y$."
   ]
  },
  {
   "cell_type": "code",
   "execution_count": 17,
   "metadata": {},
   "outputs": [
    {
     "name": "stdout",
     "output_type": "stream",
     "text": [
      "[0.9999731  0.00513518 0.00513518 0.0010249 ]\n"
     ]
    }
   ],
   "source": [
    "sites_to_marginalise = list(range(num_logicals, len(error_state) + num_logicals))\n",
    "logical = error_mps.marginal(sites_to_marginalise=sites_to_marginalise)\n",
    "logical = logical.dense(flatten=True, renormalise=True)\n",
    "print(logical)"
   ]
  },
  {
   "cell_type": "markdown",
   "metadata": {},
   "source": [
    "For the record, we're hunting for the most likely logical operator to be the identity operator. So that's it, we see the biggest probability assigned to the identity operator. Let's see how the probabilities of the four operators change as we change the bond dimension cutoff."
   ]
  },
  {
   "cell_type": "code",
   "execution_count": 18,
   "metadata": {},
   "outputs": [
    {
     "name": "stderr",
     "output_type": "stream",
     "text": [
      "100%|██████████| 8/8 [00:00<00:00, 44.33it/s]\n"
     ]
    }
   ],
   "source": [
    "strategy = \"Optimised\"\n",
    "logical_values = [[] for _ in range(4)]\n",
    "\n",
    "for max_bond_dim in tqdm(bond_dims):\n",
    "    error_state = \"0\" * (num_sites - num_logicals)\n",
    "    logicals_state = \"+\" * num_logicals\n",
    "    state_string = logicals_state + error_state\n",
    "    error_mps = create_custom_product_state(string=state_string)\n",
    "\n",
    "    error_mps = apply_bitflip_bias(\n",
    "        mps=error_mps,\n",
    "        prob_bias_list=0.01,\n",
    "        sites_to_bias=sites_to_bias,\n",
    "    )\n",
    "    for i in [0, 1]:\n",
    "        error_mps = apply_constraints(\n",
    "            error_mps,\n",
    "            logicals_sites[i],\n",
    "            logicals_tensors,\n",
    "            renormalise=renormalise,\n",
    "            strategy=strategy,\n",
    "            chi_max=max_bond_dim,\n",
    "            silent=True,\n",
    "            cut=1e-17,\n",
    "        )\n",
    "    error_mps = apply_constraints(\n",
    "        error_mps,\n",
    "        constraint_sites,\n",
    "        constraints_tensors,\n",
    "        renormalise=renormalise,\n",
    "        strategy=strategy,\n",
    "        chi_max=max_bond_dim,\n",
    "        silent=True,\n",
    "        cut=1e-17,\n",
    "    )\n",
    "\n",
    "    sites_to_marginalise = list(range(num_logicals, len(error_state) + num_logicals))\n",
    "    logical = error_mps.marginal(sites_to_marginalise=sites_to_marginalise)\n",
    "    logical = logical.dense(flatten=True, renormalise=True)\n",
    "\n",
    "    for i in range(4):\n",
    "        logical_values[i].append(logical[i])"
   ]
  },
  {
   "cell_type": "code",
   "execution_count": 19,
   "metadata": {},
   "outputs": [
    {
     "data": {
      "image/png": "[encoded data removed]",
      "text/plain": [
       "<Figure size 400x300 with 1 Axes>"
      ]
     },
     "metadata": {},
     "output_type": "display_data"
    }
   ],
   "source": [
    "plt.figure(figsize=(4, 3))\n",
    "plt.plot(inv_bond_dims, logical_values[0], marker=\"o\", label=f\"Pr(I)\")\n",
    "plt.xlabel(\"Inverse Max Bond Dimension\")\n",
    "plt.ylabel(\"Logical Value\")\n",
    "plt.title(\"Logical Values vs Bond Dimension (Optimised)\")\n",
    "plt.grid(True)\n",
    "plt.legend()\n",
    "plt.show()"
   ]
  },
  {
   "cell_type": "code",
   "execution_count": 20,
   "metadata": {},
   "outputs": [
    {
     "data": {
      "image/png": "[encoded data removed]",
      "text/plain": [
       "<Figure size 400x300 with 1 Axes>"
      ]
     },
     "metadata": {},
     "output_type": "display_data"
    }
   ],
   "source": [
    "plt.figure(figsize=(4, 3))\n",
    "plt.plot(inv_bond_dims, logical_values[1], marker=\"o\", label=f\"Pr(X)\")\n",
    "plt.plot(inv_bond_dims, logical_values[2], marker=\"o\", label=f\"Pr(Z)\")\n",
    "plt.plot(inv_bond_dims, logical_values[3], marker=\"o\", label=f\"Pr(Y)\")\n",
    "plt.xlabel(\"Inverse Max Bond Dimension\")\n",
    "plt.ylabel(\"Logical Value\")\n",
    "plt.title(\"Logical Values vs Bond Dimension (Optimised)\")\n",
    "plt.grid(True)\n",
    "plt.legend()\n",
    "plt.show()"
   ]
  },
  {
   "cell_type": "markdown",
   "metadata": {},
   "source": [
    "Let's now put all of this into a function. We'll need this to run the decoder over a bunch of single- and multiqubit errors. For this, we first generate all possible one-, two- and three-qubit errors using `qecsim`."
   ]
  },
  {
   "cell_type": "code",
   "execution_count": 21,
   "metadata": {},
   "outputs": [],
   "source": [
    "one_qubit_paulis = pt.ipauli(n_qubits=num_qubits, min_weight=1, max_weight=1)\n",
    "two_qubit_paulis = pt.ipauli(n_qubits=num_qubits, min_weight=2, max_weight=2)\n",
    "three_qubit_paulis = pt.ipauli(n_qubits=num_qubits, min_weight=3, max_weight=3)"
   ]
  },
  {
   "cell_type": "code",
   "execution_count": 22,
   "metadata": {},
   "outputs": [
    {
     "name": "stderr",
     "output_type": "stream",
     "text": [
      "15it [00:00, 84.47it/s]\n"
     ]
    }
   ],
   "source": [
    "one_qubit_outputs = [\n",
    "    decode_custom(\n",
    "        stabilizers=stabilizer_generators,\n",
    "        x_logicals=x_logical_operators,\n",
    "        z_logicals=z_logical_operators,\n",
    "        error=error,\n",
    "        chi_max=1e4,\n",
    "        cut=1e-10,\n",
    "        tolerance=1e-10,\n",
    "        bias_prob=0,\n",
    "        silent=True,\n",
    "    )\n",
    "    for error in tqdm(one_qubit_paulis)\n",
    "]\n",
    "one_qubit_corrections_distribution = [output[0] for output in one_qubit_outputs]"
   ]
  },
  {
   "cell_type": "code",
   "execution_count": 23,
   "metadata": {},
   "outputs": [
    {
     "name": "stderr",
     "output_type": "stream",
     "text": [
      "90it [00:03, 26.20it/s]\n"
     ]
    }
   ],
   "source": [
    "two_qubit_outputs = [\n",
    "    decode_custom(\n",
    "        stabilizers=stabilizer_generators,\n",
    "        x_logicals=x_logical_operators,\n",
    "        z_logicals=z_logical_operators,\n",
    "        error=error,\n",
    "        chi_max=1e4,\n",
    "        cut=1e-10,\n",
    "        tolerance=1e-10,\n",
    "        bias_type=\"Depolarising\",\n",
    "        bias_prob=1e-2,\n",
    "        silent=True,\n",
    "    )\n",
    "    for error in tqdm(two_qubit_paulis)\n",
    "]\n",
    "two_qubit_corrections_distribution = [output[0] for output in two_qubit_outputs]"
   ]
  },
  {
   "cell_type": "code",
   "execution_count": 24,
   "metadata": {},
   "outputs": [
    {
     "name": "stderr",
     "output_type": "stream",
     "text": [
      "270it [00:08, 33.25it/s]\n"
     ]
    }
   ],
   "source": [
    "three_qubit_outputs = [\n",
    "    decode_custom(\n",
    "        stabilizers=stabilizer_generators,\n",
    "        x_logicals=x_logical_operators,\n",
    "        z_logicals=z_logical_operators,\n",
    "        error=error,\n",
    "        chi_max=1e4,\n",
    "        cut=1e-10,\n",
    "        tolerance=1e-10,\n",
    "        bias_type=\"Depolarising\",\n",
    "        bias_prob=1e-2,\n",
    "        silent=True,\n",
    "    )\n",
    "    for error in tqdm(three_qubit_paulis)\n",
    "]\n",
    "three_qubit_corrections_distribution = [output[0] for output in three_qubit_outputs]"
   ]
  },
  {
   "cell_type": "code",
   "execution_count": 25,
   "metadata": {},
   "outputs": [
    {
     "data": {
      "image/png": "[encoded data removed]",
      "text/plain": [
       "<Figure size 640x480 with 1 Axes>"
      ]
     },
     "metadata": {},
     "output_type": "display_data"
    }
   ],
   "source": [
    "plt.hist(map_distribution_to_pauli(one_qubit_corrections_distribution))\n",
    "plt.show()"
   ]
  },
  {
   "cell_type": "code",
   "execution_count": 26,
   "metadata": {},
   "outputs": [
    {
     "data": {
      "image/png": "[encoded data removed]",
      "text/plain": [
       "<Figure size 640x480 with 1 Axes>"
      ]
     },
     "metadata": {},
     "output_type": "display_data"
    }
   ],
   "source": [
    "plt.hist(map_distribution_to_pauli(two_qubit_corrections_distribution))\n",
    "plt.show()"
   ]
  },
  {
   "cell_type": "code",
   "execution_count": 27,
   "metadata": {},
   "outputs": [
    {
     "data": {
      "image/png": "[encoded data removed]",
      "text/plain": [
       "<Figure size 640x480 with 1 Axes>"
      ]
     },
     "metadata": {},
     "output_type": "display_data"
    }
   ],
   "source": [
    "plt.hist(map_distribution_to_pauli(three_qubit_corrections_distribution))\n",
    "plt.show()"
   ]
  },
  {
   "cell_type": "markdown",
   "metadata": {},
   "source": [
    "Let's now check by hand that some of the decoder's nontrivial outputs are indeed correct. First of all, from all one-qubit errors we get the Identity operator which corresponds to the fact that the 5-qubit code corrects all one-qubit errors. However, this code can also correct some two-qubit errors."
   ]
  },
  {
   "cell_type": "code",
   "execution_count": 28,
   "metadata": {},
   "outputs": [],
   "source": [
    "one_qubit_paulis = list(pt.ipauli(n_qubits=num_qubits, min_weight=1, max_weight=1))\n",
    "two_qubit_paulis = list(pt.ipauli(n_qubits=num_qubits, min_weight=2, max_weight=2))\n",
    "three_qubit_paulis = list(pt.ipauli(n_qubits=num_qubits, min_weight=3, max_weight=3))"
   ]
  },
  {
   "cell_type": "markdown",
   "metadata": {},
   "source": [
    "Let's take a look at the errors which result in the Identity logical operator as the output."
   ]
  },
  {
   "cell_type": "code",
   "execution_count": 29,
   "metadata": {},
   "outputs": [
    {
     "name": "stdout",
     "output_type": "stream",
     "text": [
      "XXIII\n",
      "XZIII\n",
      "XYIII\n",
      "ZXIII\n",
      "ZZIII\n",
      "ZYIII\n",
      "YXIII\n",
      "YZIII\n",
      "XIXII\n",
      "XIZII\n",
      "ZIXII\n",
      "ZIZII\n",
      "YIXII\n",
      "YIZII\n",
      "XIIXI\n",
      "XIIZI\n",
      "XIIYI\n",
      "ZIIXI\n",
      "ZIIZI\n",
      "ZIIYI\n",
      "YIIXI\n",
      "YIIZI\n",
      "YIIYI\n",
      "XIIIX\n",
      "XIIIZ\n",
      "ZIIIX\n",
      "ZIIIZ\n",
      "YIIIX\n",
      "YIIIZ\n",
      "YIIIY\n",
      "IXXII\n",
      "IXZII\n",
      "IXYII\n",
      "IZXII\n",
      "IZZII\n",
      "IYZII\n",
      "IXIXI\n",
      "IXIZI\n",
      "IXIYI\n",
      "IZIXI\n",
      "IZIZI\n",
      "IYIZI\n",
      "IXIIX\n",
      "IZIIX\n",
      "IZIIZ\n",
      "IYIIX\n",
      "IIXXI\n",
      "IIXZI\n",
      "IIXYI\n",
      "IIZXI\n",
      "IIZZI\n",
      "IIYZI\n",
      "IIXIX\n",
      "IIXIZ\n",
      "IIZIX\n",
      "IIZIZ\n",
      "IIYIZ\n",
      "IIIXX\n",
      "IIIXZ\n",
      "IIIZX\n",
      "IIIZZ\n"
     ]
    }
   ],
   "source": [
    "for i, correction in enumerate(\n",
    "    map_distribution_to_pauli(two_qubit_corrections_distribution)\n",
    "):\n",
    "    if correction == \"I\":\n",
    "        print(two_qubit_paulis[i])"
   ]
  },
  {
   "cell_type": "markdown",
   "metadata": {},
   "source": [
    "We now  dive a bit more into what is happening inside the decoder to be able to better understand the results. For example, the first error $(X_0 X_1)$ from the list above would triggers all the parity checks. This can be seen from the actual tensor network we are building (see the image below). However, in the current setup the stabilisers are being set to $0$, which is the result of the fact that the $\\text{XOR}$ tensors we use project out the inputs of odd (i.e., equal to $1$) parity. After applying the logical-operator MPOs and performing marginalization, the process yields a marginal distribution over codewords, each reflecting different parities of the logical operators.\n",
    "\n",
    "<img src=\"5-qubit-decoder.png\" alt=\"Tensor-network error-based decoder for the 5-qubit code.\"/>"
   ]
  },
  {
   "cell_type": "markdown",
   "metadata": {},
   "source": [
    "Perfect, so we see how the failure rate goes down with the bond dimension."
   ]
  }
 ],
 "metadata": {
  "kernelspec": {
   "display_name": "mdopt-ZdbamFdU-py3.10",
   "language": "python",
   "name": "python3"
  },
  "language_info": {
   "codemirror_mode": {
    "name": "ipython",
    "version": 3
   },
   "file_extension": ".py",
   "mimetype": "text/x-python",
   "name": "python",
   "nbconvert_exporter": "python",
   "pygments_lexer": "ipython3",
   "version": "3.10.16"
  }
 },
 "nbformat": 4,
 "nbformat_minor": 2
}
