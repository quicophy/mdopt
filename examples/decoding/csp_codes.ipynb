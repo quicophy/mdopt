{
 "cells": [
  {
   "cell_type": "markdown",
   "metadata": {},
   "source": [
    "# Decoding Quantum CSP Codes"
   ]
  },
  {
   "cell_type": "code",
   "execution_count": null,
   "metadata": {},
   "outputs": [],
   "source": [
    "import json\n",
    "import numpy as np\n",
    "from tqdm import tqdm\n",
    "import qecstruct as qec\n",
    "import matplotlib.pyplot as plt\n",
    "from mdopt.optimiser.utils import (\n",
    "    ConstraintString,\n",
    "    IDENTITY,\n",
    "    SWAP,\n",
    "    XOR_BULK,\n",
    "    XOR_LEFT,\n",
    "    XOR_RIGHT,\n",
    ")\n",
    "from examples.decoding.decoding import (\n",
    "    linear_code_constraint_sites,\n",
    "    linear_code_prepare_message,\n",
    "    linear_code_codewords,\n",
    ")\n",
    "from examples.decoding.decoding import (\n",
    "    apply_bitflip_bias,\n",
    "    apply_constraints,\n",
    "    decode_linear,\n",
    ")\n",
    "from mdopt.mps.utils import (\n",
    "    create_simple_product_state,\n",
    "    create_custom_product_state,\n",
    ")\n",
    "from mdopt.utils.utils import mpo_to_matrix"
   ]
  },
  {
   "cell_type": "code",
   "execution_count": 2,
   "metadata": {},
   "outputs": [],
   "source": [
    "f = open(\"data-csp-codes/batch_1/codes/qubits_30/code_0.json\")\n",
    "data = json.load(f)"
   ]
  },
  {
   "cell_type": "code",
   "execution_count": 4,
   "metadata": {},
   "outputs": [
    {
     "data": {
      "text/plain": [
       "{'x_stabs': [[1, 3, 5, 8, 10, 13, 14, 16, 27],\n",
       "  [4, 8, 11, 12, 13, 14, 15, 18, 19, 21, 22, 24],\n",
       "  [2, 3, 5, 8, 10, 15, 16, 17, 26, 29],\n",
       "  [9, 11, 24, 25, 26, 27],\n",
       "  [13, 16, 17, 18, 20, 22],\n",
       "  [4, 5, 12, 20, 23, 28],\n",
       "  [0, 5, 6, 8, 11, 17, 20, 21],\n",
       "  [0, 1, 2, 6, 7, 9, 10, 11, 13, 14, 19, 24, 25],\n",
       "  [6, 12, 14, 18, 19, 23],\n",
       "  [2, 3, 4, 9, 16, 25, 28, 29],\n",
       "  [6, 7, 9, 10, 12, 15, 28, 29],\n",
       "  [1, 2, 6, 12, 13, 14, 16, 21, 22, 23, 27],\n",
       "  [0, 2, 5, 7, 11, 26, 29]],\n",
       " 'z_stabs': [[3, 5, 6, 8, 10, 11, 23, 25],\n",
       "  [0, 6, 7, 9, 18, 22, 26, 29],\n",
       "  [0, 2, 4, 10, 12, 14, 21],\n",
       "  [4, 6, 10, 12, 13, 17, 19, 23, 28],\n",
       "  [1, 9, 10, 11, 12, 13, 15, 16, 21, 23, 24, 26],\n",
       "  [1, 5, 10, 16, 20, 29],\n",
       "  [3, 6, 8, 12, 14, 19, 20, 21, 22, 25, 27],\n",
       "  [0, 7, 9, 11, 15, 29],\n",
       "  [1, 2, 3, 8, 21, 26, 27],\n",
       "  [0, 1, 3, 5, 6, 14, 18, 20, 23, 28],\n",
       "  [0, 2, 9, 10, 12, 13, 15, 17, 23, 24],\n",
       "  [0, 8, 18, 19, 22, 26, 27],\n",
       "  [2, 4, 7, 8, 16, 17, 28],\n",
       "  [2, 5, 13, 20, 24, 25]],\n",
       " 'num_qubits': 30}"
      ]
     },
     "execution_count": 4,
     "metadata": {},
     "output_type": "execute_result"
    }
   ],
   "source": [
    "data"
   ]
  },
  {
   "cell_type": "code",
   "execution_count": 3,
   "metadata": {},
   "outputs": [
    {
     "data": {
      "text/plain": [
       "[[1, 3, 5, 8, 10, 13, 14, 16, 27],\n",
       " [4, 8, 11, 12, 13, 14, 15, 18, 19, 21, 22, 24],\n",
       " [2, 3, 5, 8, 10, 15, 16, 17, 26, 29],\n",
       " [9, 11, 24, 25, 26, 27],\n",
       " [13, 16, 17, 18, 20, 22],\n",
       " [4, 5, 12, 20, 23, 28],\n",
       " [0, 5, 6, 8, 11, 17, 20, 21],\n",
       " [0, 1, 2, 6, 7, 9, 10, 11, 13, 14, 19, 24, 25],\n",
       " [6, 12, 14, 18, 19, 23],\n",
       " [2, 3, 4, 9, 16, 25, 28, 29],\n",
       " [6, 7, 9, 10, 12, 15, 28, 29],\n",
       " [1, 2, 6, 12, 13, 14, 16, 21, 22, 23, 27],\n",
       " [0, 2, 5, 7, 11, 26, 29]]"
      ]
     },
     "execution_count": 3,
     "metadata": {},
     "output_type": "execute_result"
    }
   ],
   "source": [
    "data[\"x_stabs\"]"
   ]
  },
  {
   "cell_type": "code",
   "execution_count": 10,
   "metadata": {},
   "outputs": [],
   "source": [
    "NUM_BITS = 60"
   ]
  },
  {
   "cell_type": "code",
   "execution_count": 11,
   "metadata": {},
   "outputs": [],
   "source": [
    "state = create_simple_product_state(NUM_BITS, which=\"+\")"
   ]
  },
  {
   "cell_type": "code",
   "execution_count": 12,
   "metadata": {},
   "outputs": [
    {
     "data": {
      "text/plain": [
       "[[1, 3, 5, 8, 10, 13, 14, 16, 27],\n",
       " [4, 8, 11, 12, 13, 14, 15, 18, 19, 21, 22, 24],\n",
       " [2, 3, 5, 8, 10, 15, 16, 17, 26, 29],\n",
       " [9, 11, 24, 25, 26, 27],\n",
       " [13, 16, 17, 18, 20, 22],\n",
       " [4, 5, 12, 20, 23, 28],\n",
       " [0, 5, 6, 8, 11, 17, 20, 21],\n",
       " [0, 1, 2, 6, 7, 9, 10, 11, 13, 14, 19, 24, 25],\n",
       " [6, 12, 14, 18, 19, 23],\n",
       " [2, 3, 4, 9, 16, 25, 28, 29],\n",
       " [6, 7, 9, 10, 12, 15, 28, 29],\n",
       " [1, 2, 6, 12, 13, 14, 16, 21, 22, 23, 27],\n",
       " [0, 2, 5, 7, 11, 26, 29]]"
      ]
     },
     "execution_count": 12,
     "metadata": {},
     "output_type": "execute_result"
    }
   ],
   "source": [
    "code_constraint_sites = data[\"x_stabs\"]\n",
    "tensors = [XOR_LEFT, XOR_BULK, SWAP, XOR_RIGHT]\n",
    "code_constraint_sites"
   ]
  },
  {
   "cell_type": "code",
   "execution_count": null,
   "metadata": {},
   "outputs": [],
   "source": []
  }
 ],
 "metadata": {
  "kernelspec": {
   "display_name": "mdopt-ZdbamFdU-py3.11",
   "language": "python",
   "name": "python3"
  },
  "language_info": {
   "codemirror_mode": {
    "name": "ipython",
    "version": 3
   },
   "file_extension": ".py",
   "mimetype": "text/x-python",
   "name": "python",
   "nbconvert_exporter": "python",
   "pygments_lexer": "ipython3",
   "version": "3.11.8"
  },
  "orig_nbformat": 4
 },
 "nbformat": 4,
 "nbformat_minor": 2
}
