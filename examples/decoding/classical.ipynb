{
 "cells": [
  {
   "cell_type": "code",
   "execution_count": 1,
   "metadata": {},
   "outputs": [],
   "source": [
    "import numpy as np\n",
    "import qecstruct as qec\n",
    "from mdopt.optimiser.utils import (\n",
    "    ConstraintString,\n",
    "    IDENTITY,\n",
    "    SWAP,\n",
    "    XOR_BULK,\n",
    "    XOR_LEFT,\n",
    "    XOR_RIGHT,\n",
    ")\n",
    "from examples.decoding.decoding import (\n",
    "    get_constraint_sites,\n",
    "    get_codewords,\n",
    "    apply_parity_constraints,\n",
    "    apply_bias_channel,\n",
    "    prepare_codewords,\n",
    "    decode\n",
    ")\n",
    "from mdopt.mps.utils import create_simple_product_state, create_custom_product_state\n",
    "from mdopt.utils.utils import mpo_to_matrix"
   ]
  },
  {
   "attachments": {},
   "cell_type": "markdown",
   "metadata": {},
   "source": [
    "In this experiment, we decode a classical linear error correcting code.\n",
    "First, we build the MPS containing the superposition of all codewords.\n",
    "Then, we demostrate simple decoding of a classical LDPC code using Dephasing DMRG --\n",
    "our own built-in DMRG-like optimisation algorithm to solve the main component problem --\n",
    "the problem of finding a computational basis state cotributing the most to a given state."
   ]
  },
  {
   "cell_type": "code",
   "execution_count": 2,
   "metadata": {},
   "outputs": [
    {
     "name": "stdout",
     "output_type": "stream",
     "text": [
      "\n",
      "Checking the codeword superposition state:\n",
      "\n"
     ]
    },
    {
     "name": "stderr",
     "output_type": "stream",
     "text": [
      "100%|██████████| 6/6 [00:00<00:00, 361.44it/s]"
     ]
    },
    {
     "name": "stdout",
     "output_type": "stream",
     "text": [
      "\n",
      "Codewords from the generator matrix:\n",
      "[   0   27   46   53   71   92  105  114  135  156  169  178  192  219\n",
      "  238  245  264  275  294  317  335  340  353  378  399  404  417  442\n",
      "  456  467  486  509  513  538  559  564  582  605  616  627  646  669\n",
      "  680  691  705  730  751  756  777  786  807  828  846  853  864  891\n",
      "  910  917  928  955  969  978  999 1020]\n",
      "Codewords from the dense-form simulation:\n",
      "[   0   27   46   53   71   92  105  114  135  156  169  178  192  219\n",
      "  238  245  264  275  294  317  335  340  353  378  399  404  417  442\n",
      "  456  467  486  509  513  538  559  564  582  605  616  627  646  669\n",
      "  680  691  705  730  751  756  777  786  807  828  846  853  864  891\n",
      "  910  917  928  955  969  978  999 1020]\n",
      "Codewords from the MPS-form simulation:\n",
      "[   0   27   46   53   71   92  105  114  135  156  169  178  192  219\n",
      "  238  245  264  275  294  317  335  340  353  378  399  404  417  442\n",
      "  456  467  486  509  513  538  559  564  582  605  616  627  646  669\n",
      "  680  691  705  730  751  756  777  786  807  828  846  853  864  891\n",
      "  910  917  928  955  969  978  999 1020]\n",
      "\n",
      "All lists of codewords match: True\n"
     ]
    },
    {
     "name": "stderr",
     "output_type": "stream",
     "text": [
      "\n"
     ]
    }
   ],
   "source": [
    "# Fixing a random seed\n",
    "SEED = 123\n",
    "\n",
    "tensors = [XOR_LEFT, XOR_BULK, SWAP, XOR_RIGHT]\n",
    "\n",
    "# Defining the parameters of a classical LDPC code.\n",
    "NUM_BITS, NUM_CHECKS = 10, 6\n",
    "CHECK_DEGREE, BIT_DEGREE = 5, 3\n",
    "if NUM_BITS / NUM_CHECKS != CHECK_DEGREE / BIT_DEGREE:\n",
    "    raise ValueError(\"The Tanner graph of the code must be bipartite.\")\n",
    "\n",
    "# Constructing the code as a qecstruct object.\n",
    "example_code = qec.random_regular_code(\n",
    "    NUM_BITS, NUM_CHECKS, BIT_DEGREE, CHECK_DEGREE, qec.Rng(SEED)\n",
    ")\n",
    "\n",
    "# Preparing the initial state.\n",
    "state = create_simple_product_state(NUM_BITS, which=\"+\")\n",
    "state_dense = state.dense(flatten=True)\n",
    "\n",
    "# Getting the sites where each string of constraints should be applied.\n",
    "code_constraint_sites = get_constraint_sites(example_code)\n",
    "\n",
    "print(\"\")\n",
    "print(\"Checking the codeword superposition state:\")\n",
    "print(\"\")\n",
    "\n",
    "# Preparing the codeword superposition state by the MPS-MPO evolution.\n",
    "state = apply_parity_constraints(state, code_constraint_sites, tensors)\n",
    "\n",
    "# Preparing the codeword superposition state in the dense form.\n",
    "for j in range(NUM_CHECKS):\n",
    "\n",
    "    # Preparing the MPO.\n",
    "    constraint_string = ConstraintString(tensors, code_constraint_sites[j])\n",
    "    constraint_mpo = constraint_string.get_mpo()\n",
    "\n",
    "    # Finding the starting site of the MPS to build a correct dense-form operator.\n",
    "    START_SITE = min(constraint_string.flat())\n",
    "\n",
    "    # Preparing the dense-form operator.\n",
    "    identities_l = [IDENTITY for _ in range(START_SITE)]\n",
    "    identities_r = [\n",
    "        IDENTITY for _ in range(NUM_BITS - len(constraint_mpo) - START_SITE)\n",
    "    ]\n",
    "    full_mpo = identities_l + constraint_mpo + identities_r\n",
    "    mpo_dense = mpo_to_matrix(full_mpo, interlace=False, group=True)\n",
    "\n",
    "    # Doing the contraction in dense form.\n",
    "    state_dense = mpo_dense @ state_dense\n",
    "\n",
    "# Tolerance under which we round tensor elements to zero.\n",
    "TOL = 1e-12\n",
    "mps_dense = state.dense(flatten=True)\n",
    "mps_dense[np.abs(mps_dense) < TOL] = 0\n",
    "\n",
    "# Retreiving codewords.\n",
    "cwords = get_codewords(example_code)\n",
    "cwords_to_compare_mps = np.flatnonzero(mps_dense)\n",
    "cwords_to_compare_dense = np.flatnonzero(state_dense)\n",
    "\n",
    "print()\n",
    "print(\"Codewords from the generator matrix:\")\n",
    "print(cwords)\n",
    "print(\"Codewords from the dense-form simulation:\")\n",
    "print(cwords_to_compare_mps)\n",
    "print(\"Codewords from the MPS-form simulation:\")\n",
    "print(cwords_to_compare_dense)\n",
    "print(\"\")\n",
    "print(\n",
    "    \"All lists of codewords match:\",\n",
    "    np.logical_and(\n",
    "        np.array_equal(cwords, cwords_to_compare_mps),\n",
    "        np.array_equal(cwords_to_compare_mps, cwords_to_compare_dense),\n",
    "    ),\n",
    ")"
   ]
  },
  {
   "cell_type": "code",
   "execution_count": 3,
   "metadata": {},
   "outputs": [
    {
     "name": "stdout",
     "output_type": "stream",
     "text": [
      "\n",
      "Retreiving a perturbed codeword:\n",
      "\n",
      "The initial codeword is 0111010100100000\n",
      "The perturbed codeword is 0111110100101001\n",
      "\n",
      "Applying constraints:\n",
      "\n"
     ]
    },
    {
     "name": "stderr",
     "output_type": "stream",
     "text": [
      "100%|██████████| 12/12 [00:01<00:00, 10.04it/s]\n"
     ]
    },
    {
     "name": "stdout",
     "output_type": "stream",
     "text": [
      "Decoding:\n",
      "\n"
     ]
    },
    {
     "name": "stderr",
     "output_type": "stream",
     "text": [
      "100%|██████████| 1/1 [00:00<00:00, 14.73it/s]"
     ]
    },
    {
     "name": "stdout",
     "output_type": "stream",
     "text": [
      "The overlap of the density MPO main component and the initial codeword state:  1.0\n",
      "__________________________________________________________________________________________\n"
     ]
    },
    {
     "name": "stderr",
     "output_type": "stream",
     "text": [
      "\n"
     ]
    }
   ],
   "source": [
    "print(\"\")\n",
    "print(\"Retreiving a perturbed codeword:\")\n",
    "print(\"\")\n",
    "\n",
    "# Defining the parameters of a classical LDPC code.\n",
    "NUM_BITS, NUM_CHECKS = 16, 12\n",
    "CHECK_DEGREE, BIT_DEGREE = 4, 3\n",
    "if NUM_BITS / NUM_CHECKS != CHECK_DEGREE / BIT_DEGREE:\n",
    "    raise ValueError(\"The Tanner graph of the code must be bipartite.\")\n",
    "\n",
    "# Defining the bias channel parameter and the error probability.\n",
    "PROB_ERROR = 0.15\n",
    "PROB_CHANNEL = PROB_ERROR\n",
    "\n",
    "# Maximum bond dimension for contractor/DMRG.\n",
    "CHI_MAX_CONTRACTOR = 1e4\n",
    "CHI_MAX_DMRG = 1e4\n",
    "# Number of DMRG sweeps.\n",
    "NUM_RUNS = 1\n",
    "\n",
    "# Constructing the code as a qecstruct object.\n",
    "example_code = qec.random_regular_code(\n",
    "    NUM_BITS, NUM_CHECKS, BIT_DEGREE, CHECK_DEGREE, qec.Rng(SEED)\n",
    ")\n",
    "\n",
    "# Getting the sites where each string of constraints should be applied.\n",
    "code_constraint_sites = get_constraint_sites(example_code)\n",
    "\n",
    "# Building an initial and a perturbed codeword.\n",
    "INITIAL_CODEWORD, PERTURBED_CODEWORD = prepare_codewords(\n",
    "    example_code, PROB_ERROR, error_model=qec.BinarySymmetricChannel, seed=SEED\n",
    ")\n",
    "print(\"The initial codeword is\", INITIAL_CODEWORD)\n",
    "print(\"The perturbed codeword is\", PERTURBED_CODEWORD)\n",
    "print(\"\")\n",
    "\n",
    "# Building the corresponding matrix product states.\n",
    "initial_codeword_state = create_custom_product_state(\n",
    "    INITIAL_CODEWORD, form=\"Right-canonical\"\n",
    ")\n",
    "perturbed_codeword_state = create_custom_product_state(\n",
    "    PERTURBED_CODEWORD, form=\"Right-canonical\"\n",
    ")\n",
    "\n",
    "# Passing the perturbed codeword state through the bias channel.\n",
    "perturbed_codeword_state = apply_bias_channel(\n",
    "    perturbed_codeword_state,\n",
    "    codeword_string=PERTURBED_CODEWORD,\n",
    "    prob_channel=PROB_CHANNEL,\n",
    ")\n",
    "\n",
    "print(\"Applying constraints:\")\n",
    "print(\"\")\n",
    "# Applying the parity constraints defined by the code.\n",
    "perturbed_codeword_state = apply_parity_constraints(\n",
    "    perturbed_codeword_state,\n",
    "    code_constraint_sites,\n",
    "    tensors,\n",
    "    chi_max=CHI_MAX_CONTRACTOR,\n",
    "    renormalise=True,\n",
    "    strategy=\"naive\",\n",
    "    silent=False,\n",
    ")\n",
    "\n",
    "print(\"Decoding:\")\n",
    "print(\"\")\n",
    "# Decoding the perturbed codeword.\n",
    "dmrg_container, success = decode(\n",
    "    message=perturbed_codeword_state,\n",
    "    codeword=initial_codeword_state,\n",
    "    code=example_code,\n",
    "    num_runs=NUM_RUNS,\n",
    "    chi_max_dmrg=CHI_MAX_DMRG,\n",
    "    cut=1e-10,\n",
    "    silent=False,\n",
    ")\n",
    "print(\n",
    "    \"The overlap of the density MPO main component and the initial codeword state: \",\n",
    "    success,\n",
    ")\n",
    "print(\n",
    "    \"__________________________________________________________________________________________\"\n",
    ")"
   ]
  },
  {
   "cell_type": "code",
   "execution_count": null,
   "metadata": {},
   "outputs": [],
   "source": []
  }
 ],
 "metadata": {
  "kernelspec": {
   "display_name": "mdopt-ZdbamFdU-py3.9",
   "language": "python",
   "name": "python3"
  },
  "language_info": {
   "codemirror_mode": {
    "name": "ipython",
    "version": 3
   },
   "file_extension": ".py",
   "mimetype": "text/x-python",
   "name": "python",
   "nbconvert_exporter": "python",
   "pygments_lexer": "ipython3",
   "version": "3.9.13"
  },
  "orig_nbformat": 4,
  "vscode": {
   "interpreter": {
    "hash": "cd00668ec6929851fcf19d7aebdf8f5927f35d0f54b527f252ebcdaf64fd8c43"
   }
  }
 },
 "nbformat": 4,
 "nbformat_minor": 2
}
