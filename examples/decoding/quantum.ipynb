{
 "cells": [
  {
   "cell_type": "code",
   "execution_count": 1,
   "metadata": {},
   "outputs": [
    {
     "data": {
      "text/plain": [
       "\"\\nIn this experiment, we decode a Shor's nine-qubit quantum error correcting code.\\nWe show decoding of the Shor's nine-qubit code using Dephasing DMRG --\\nour own built-in DMRG-like optimisation algorithm to solve the main component problem --\\nthe problem of finding a computational basis state cotributing the most to a given state.\\n\""
      ]
     },
     "execution_count": 1,
     "metadata": {},
     "output_type": "execute_result"
    }
   ],
   "source": [
    "\"\"\"\n",
    "In this experiment, we decode a Shor's nine-qubit quantum error correcting code.\n",
    "We show decoding of the Shor's nine-qubit code using Dephasing DMRG --\n",
    "our own built-in DMRG-like optimisation algorithm to solve the main component problem --\n",
    "the problem of finding a computational basis state cotributing the most to a given state.\n",
    "\"\"\""
   ]
  },
  {
   "cell_type": "code",
   "execution_count": 2,
   "metadata": {},
   "outputs": [],
   "source": [
    "import numpy as np\n",
    "import qecstruct as qec\n",
    "\n",
    "from decoding import IDENTITY, XOR_BULK, XOR_LEFT, XOR_RIGHT, SWAP\n",
    "from decoding import bin_vec_to_dense, ConstraintString, get_constraint_sites, apply_parity_constraints, get_codewords, prepare_codewords, apply_bias_channel, decode, linear_code_checks\n",
    "\n",
    "from mdopt.mps.utils import create_simple_product_state, create_custom_product_state\n",
    "from mdopt.utils.utils import mpo_to_matrix"
   ]
  },
  {
   "cell_type": "code",
   "execution_count": 3,
   "metadata": {},
   "outputs": [],
   "source": [
    "# Fixing a random seed\n",
    "SEED = 123\n",
    "\n",
    "tensors = [XOR_LEFT, XOR_BULK, SWAP, XOR_RIGHT]"
   ]
  },
  {
   "cell_type": "code",
   "execution_count": 4,
   "metadata": {},
   "outputs": [],
   "source": [
    "def linear_qcode_checks(code: qec.CssCode) -> list[tuple[np.ndarray]]:\n",
    "    \"\"\"\n",
    "    Given a CSS code, returns a list of its checks, where each check\n",
    "    is represented as a list of indices of the bits adjacent to it.\n",
    "\n",
    "    Parameters\n",
    "        code :\n",
    "            CSS code object.\n",
    "\n",
    "    Returns\n",
    "        checks : list of lists\n",
    "            List of checks.\n",
    "    \"\"\"\n",
    "\n",
    "    parity_matrix_x = code.x_stabs_binary()\n",
    "    array_x = np.zeros((parity_matrix_x.num_rows(), parity_matrix_x.num_columns()), dtype=int)\n",
    "    for row, cols in enumerate(parity_matrix_x.rows()):\n",
    "        for col in cols:\n",
    "            array_x[row, col] = 1\n",
    "    \n",
    "    parity_matrix_z = code.z_stabs_binary()\n",
    "    array_z = np.zeros((parity_matrix_z.num_rows(), parity_matrix_z.num_columns()), dtype=int)\n",
    "    for row, cols in enumerate(parity_matrix_z.rows()):\n",
    "        for col in cols:\n",
    "            array_z[row, col] = 1\n",
    "\n",
    "    return [np.nonzero(row)[0] for row in array_x], [np.nonzero(row)[0] for row in array_z]"
   ]
  },
  {
   "cell_type": "code",
   "execution_count": 5,
   "metadata": {},
   "outputs": [],
   "source": [
    "def get_qconstraint_sites(code: qec.CssCode) -> list[int]:\n",
    "    \"\"\"\n",
    "    Returns the list of MPS sites where the logical constraints should be applied.\n",
    "\n",
    "    Parameters\n",
    "        code : :class:`qecstruct.LinearCode`\n",
    "            Linear code object.\n",
    "\n",
    "    Returns\n",
    "        strings : list[int]\n",
    "            List of MPS sites.\n",
    "    \"\"\"\n",
    "\n",
    "    sites_x, sites_z = linear_qcode_checks(code)\n",
    "\n",
    "    check_x_degree = len(sites_x[0])\n",
    "    constraints_strings_x = []\n",
    "\n",
    "    check_z_degree = len(sites_z[0])\n",
    "    constraints_strings_z = []\n",
    "\n",
    "    for sites in sites_x:\n",
    "\n",
    "        # Retreiving the sites indices where we apply the \"bulk\"/\"boundary\" XOR tensors.\n",
    "        xor_left_sites_x = [sites[0]]\n",
    "        xor_bulk_sites_x = [sites[i] for i in range(1, check_x_degree - 1)]\n",
    "        xor_right_sites_x = [sites[-1]]\n",
    "\n",
    "        # Retreiving the sites indices where we apply the SWAP tensors.\n",
    "        swap_sites_x = list(range(sites[0] + 1, sites[-1]))\n",
    "        for k in range(1, check_x_degree - 1):\n",
    "            swap_sites_x.remove(sites[k])\n",
    "\n",
    "        constraints_strings_x.append(\n",
    "            [xor_left_sites_x, xor_bulk_sites_x, swap_sites_x, xor_right_sites_x]\n",
    "        )\n",
    "\n",
    "    for sites in sites_z:\n",
    "\n",
    "        # Retreiving the sites indices where we apply the \"bulk\"/\"boundary\" XOR tensors.\n",
    "        xor_left_sites_z = [sites[0]]\n",
    "        xor_bulk_sites_z = [sites[i] for i in range(1, check_z_degree - 1)]\n",
    "        xor_right_sites_z = [sites[-1]]\n",
    "\n",
    "        # Retreiving the sites indices where we apply the SWAP tensors.\n",
    "        swap_sites_z = list(range(sites[0] + 1, sites[-1]))\n",
    "        for k in range(1, check_z_degree - 1):\n",
    "            swap_sites_z.remove(sites[k])\n",
    "\n",
    "        constraints_strings_z.append(\n",
    "            [xor_left_sites_z, xor_bulk_sites_z, swap_sites_z, xor_right_sites_z]\n",
    "        )\n",
    "\n",
    "    return constraints_strings_x, constraints_strings_z"
   ]
  },
  {
   "cell_type": "code",
   "execution_count": 6,
   "metadata": {},
   "outputs": [],
   "source": [
    "code = qec.shor_code()"
   ]
  },
  {
   "cell_type": "code",
   "execution_count": 7,
   "metadata": {},
   "outputs": [
    {
     "data": {
      "text/plain": [
       "X stabilizers:\n",
       "[0, 1, 2, 3, 4, 5]\n",
       "[3, 4, 5, 6, 7, 8]\n",
       "Z stabilizers:\n",
       "[0, 1]\n",
       "[1, 2]\n",
       "[3, 4]\n",
       "[4, 5]\n",
       "[6, 7]\n",
       "[7, 8]"
      ]
     },
     "execution_count": 7,
     "metadata": {},
     "output_type": "execute_result"
    }
   ],
   "source": [
    "code"
   ]
  },
  {
   "cell_type": "code",
   "execution_count": 8,
   "metadata": {},
   "outputs": [
    {
     "data": {
      "text/plain": [
       "[0, 1, 2, 3, 4, 5]\n",
       "[3, 4, 5, 6, 7, 8]"
      ]
     },
     "execution_count": 8,
     "metadata": {},
     "output_type": "execute_result"
    }
   ],
   "source": [
    "code.x_stabs_binary()"
   ]
  },
  {
   "cell_type": "code",
   "execution_count": 9,
   "metadata": {},
   "outputs": [
    {
     "data": {
      "text/plain": [
       "[0, 1]\n",
       "[1, 2]\n",
       "[3, 4]\n",
       "[4, 5]\n",
       "[6, 7]\n",
       "[7, 8]"
      ]
     },
     "execution_count": 9,
     "metadata": {},
     "output_type": "execute_result"
    }
   ],
   "source": [
    "code.z_stabs_binary()"
   ]
  },
  {
   "cell_type": "code",
   "execution_count": 10,
   "metadata": {},
   "outputs": [],
   "source": [
    "sites_x, sites_z = linear_qcode_checks(code)"
   ]
  },
  {
   "cell_type": "code",
   "execution_count": 11,
   "metadata": {},
   "outputs": [
    {
     "name": "stdout",
     "output_type": "stream",
     "text": [
      "[array([0, 1, 2, 3, 4, 5]), array([3, 4, 5, 6, 7, 8])]\n",
      "[array([0, 1]), array([1, 2]), array([3, 4]), array([4, 5]), array([6, 7]), array([7, 8])]\n"
     ]
    }
   ],
   "source": [
    "print(sites_x)\n",
    "print(sites_z)"
   ]
  },
  {
   "cell_type": "code",
   "execution_count": 12,
   "metadata": {},
   "outputs": [],
   "source": [
    "qcode_constraint_sites = get_qconstraint_sites(code)"
   ]
  },
  {
   "cell_type": "code",
   "execution_count": 13,
   "metadata": {},
   "outputs": [
    {
     "data": {
      "text/plain": [
       "([[[0], [1, 2, 3, 4], [], [5]], [[3], [4, 5, 6, 7], [], [8]]],\n",
       " [[[0], [], [], [1]],\n",
       "  [[1], [], [], [2]],\n",
       "  [[3], [], [], [4]],\n",
       "  [[4], [], [], [5]],\n",
       "  [[6], [], [], [7]],\n",
       "  [[7], [], [], [8]]])"
      ]
     },
     "execution_count": 13,
     "metadata": {},
     "output_type": "execute_result"
    }
   ],
   "source": [
    "qcode_constraint_sites"
   ]
  },
  {
   "cell_type": "code",
   "execution_count": 15,
   "metadata": {},
   "outputs": [
    {
     "data": {
      "text/plain": [
       "[0, 1, 2]"
      ]
     },
     "execution_count": 15,
     "metadata": {},
     "output_type": "execute_result"
    }
   ],
   "source": [
    "code.x_logicals_binary()"
   ]
  },
  {
   "cell_type": "code",
   "execution_count": null,
   "metadata": {},
   "outputs": [],
   "source": [
    "string = \"000000000000000000\"\n",
    "error = create_custom_product_state(string=string, form=\"Right-canonical\")\n",
    "state_to_contract = create_simple_product_state(num_sites=18, which=\"+\")\n",
    "logical_state = create_simple_product_state(num_sites=2, which=\"0\")"
   ]
  },
  {
   "cell_type": "code",
   "execution_count": null,
   "metadata": {},
   "outputs": [],
   "source": []
  }
 ],
 "metadata": {
  "kernelspec": {
   "display_name": "Python 3.9.12 ('base')",
   "language": "python",
   "name": "python3"
  },
  "language_info": {
   "codemirror_mode": {
    "name": "ipython",
    "version": 3
   },
   "file_extension": ".py",
   "mimetype": "text/x-python",
   "name": "python",
   "nbconvert_exporter": "python",
   "pygments_lexer": "ipython3",
   "version": "3.9.12"
  },
  "orig_nbformat": 4,
  "vscode": {
   "interpreter": {
    "hash": "beb51d2e4f595594d882127529c1bc4b1aa1e76d8ded79011fd6bf52b7a41e64"
   }
  }
 },
 "nbformat": 4,
 "nbformat_minor": 2
}
