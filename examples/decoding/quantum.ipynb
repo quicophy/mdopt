{
 "cells": [
  {
   "cell_type": "code",
   "execution_count": 1,
   "metadata": {},
   "outputs": [
    {
     "data": {
      "text/plain": [
       "\"\\nIn this experiment, we decode a Shor's nine-qubit quantum error correcting code.\\nWe show decoding of the Shor's nine-qubit code using Dephasing DMRG --\\nour own built-in DMRG-like optimisation algorithm to solve the main component problem --\\nthe problem of finding a computational basis state cotributing the most to a given state.\\n\""
      ]
     },
     "execution_count": 1,
     "metadata": {},
     "output_type": "execute_result"
    }
   ],
   "source": [
    "\"\"\"\n",
    "In this experiment, we decode a Shor's nine-qubit quantum error correcting code.\n",
    "We show decoding of the Shor's nine-qubit code using Dephasing DMRG --\n",
    "our own built-in DMRG-like optimisation algorithm to solve the main component problem --\n",
    "the problem of finding a computational basis state cotributing the most to a given state.\n",
    "\"\"\""
   ]
  },
  {
   "cell_type": "code",
   "execution_count": 2,
   "metadata": {},
   "outputs": [],
   "source": [
    "import numpy as np\n",
    "import qecstruct as qec\n",
    "\n",
    "from examples.decoding.decoding import IDENTITY, XOR_BULK, XOR_LEFT, XOR_RIGHT, SWAP, COPY\n",
    "from examples.decoding.decoding import bin_vec_to_dense, ConstraintString, get_constraint_sites, apply_parity_constraints, get_codewords, prepare_codewords, apply_bias_channel, decode, linear_code_checks\n",
    "\n",
    "from mdopt.mps.canonical import CanonicalMPS\n",
    "from mdopt.mps.utils import create_simple_product_state, create_custom_product_state, mps_from_dense, create_state_vector, find_orth_centre, inner_product\n",
    "from mdopt.utils.utils import mpo_to_matrix\n",
    "from functools import reduce\n",
    "from opt_einsum import contract"
   ]
  },
  {
   "cell_type": "code",
   "execution_count": 3,
   "metadata": {},
   "outputs": [
    {
     "data": {
      "text/plain": [
       "X stabilizers:\n",
       "[0, 1, 2, 3, 4, 5]\n",
       "[3, 4, 5, 6, 7, 8]\n",
       "Z stabilizers:\n",
       "[0, 1]\n",
       "[1, 2]\n",
       "[3, 4]\n",
       "[4, 5]\n",
       "[6, 7]\n",
       "[7, 8]"
      ]
     },
     "execution_count": 3,
     "metadata": {},
     "output_type": "execute_result"
    }
   ],
   "source": [
    "code = qec.shor_code()\n",
    "code"
   ]
  },
  {
   "cell_type": "code",
   "execution_count": 4,
   "metadata": {},
   "outputs": [],
   "source": [
    "num_sites = 2 * len(code) + code.num_x_logicals() + code.num_z_logicals()\n",
    "assert num_sites == 20\n",
    "string = \"0\" * num_sites\n",
    "# not perturbing anything for now, should get an identity logical in the end\n",
    "error_state = create_custom_product_state(string=string, form=\"Right-canonical\")"
   ]
  },
  {
   "cell_type": "code",
   "execution_count": 5,
   "metadata": {},
   "outputs": [],
   "source": [
    "def linear_csscode_checks(code: qec.CssCode) -> tuple[list[np.ndarray]]:\n",
    "    \"\"\"\n",
    "    Given a CSS code, returns a list of its checks, where each check\n",
    "    is represented as a list of indices of the bits adjacent to it.\n",
    "\n",
    "    Parameters\n",
    "    ----------\n",
    "    code : qec.CssCode\n",
    "        The CSS code object.\n",
    "\n",
    "    Returns\n",
    "    -------\n",
    "    checks : tuple[list[np.ndarray]]\n",
    "        The checks.\n",
    "    \"\"\"\n",
    "\n",
    "    parity_matrix_x = code.x_stabs_binary()\n",
    "    array_x = np.zeros((parity_matrix_x.num_rows(), parity_matrix_x.num_columns()), dtype=int)\n",
    "    for row, cols in enumerate(parity_matrix_x.rows()):\n",
    "        for col in cols:\n",
    "            array_x[row, col] = 1\n",
    "    \n",
    "    parity_matrix_z = code.z_stabs_binary()\n",
    "    array_z = np.zeros((parity_matrix_z.num_rows(), parity_matrix_z.num_columns()), dtype=int)\n",
    "    for row, cols in enumerate(parity_matrix_z.rows()):\n",
    "        for col in cols:\n",
    "            array_z[row, col] = 1\n",
    "\n",
    "    return (\n",
    "            [\n",
    "                2*np.nonzero(row)[0] for row in array_x\n",
    "                ],\n",
    "            [\n",
    "                2*np.nonzero(row)[0] + 1 for row in array_z\n",
    "                ],\n",
    "    )"
   ]
  },
  {
   "cell_type": "code",
   "execution_count": 6,
   "metadata": {},
   "outputs": [
    {
     "name": "stdout",
     "output_type": "stream",
     "text": [
      "[array([ 0,  2,  4,  6,  8, 10]), array([ 6,  8, 10, 12, 14, 16])]\n",
      "[array([1, 3]), array([3, 5]), array([7, 9]), array([ 9, 11]), array([13, 15]), array([15, 17])]\n"
     ]
    }
   ],
   "source": [
    "checks_x, checks_z = linear_csscode_checks(code)\n",
    "print(checks_x)\n",
    "print(checks_z)"
   ]
  },
  {
   "cell_type": "code",
   "execution_count": 7,
   "metadata": {},
   "outputs": [],
   "source": [
    "def get_cssconstraint_sites(code: qec.CssCode) -> tuple[list[int]]:\n",
    "    \"\"\"\n",
    "    Returns the list of MPS sites where the logical constraints should be applied.\n",
    "\n",
    "    Parameters\n",
    "    ----------\n",
    "    code : qec.CssCode\n",
    "        The CSS code object.\n",
    "\n",
    "    Returns\n",
    "    strings : tuple[list[list[int]]]\n",
    "        List of MPS sites.\n",
    "    \"\"\"\n",
    "\n",
    "    sites_x, sites_z = linear_csscode_checks(code)\n",
    "\n",
    "    #check_x_degree = len(sites_x[0])\n",
    "    constraints_strings_x = []\n",
    "\n",
    "    #check_z_degree = len(sites_z[0])\n",
    "    constraints_strings_z = []\n",
    "\n",
    "    for sites in sites_x:\n",
    "\n",
    "        # Retreiving the sites indices where we apply the \"bulk\"/\"boundary\" XOR tensors.\n",
    "        xor_left_sites_x = [sites[0]]\n",
    "        xor_bulk_sites_x = [sites[i] for i in range(1, len(sites) - 1)]\n",
    "        xor_right_sites_x = [sites[-1]]\n",
    "\n",
    "        # Retreiving the sites indices where we apply the SWAP tensors.\n",
    "        swap_sites_x = list(range(sites[0] + 1, sites[-1]))\n",
    "        for k in range(1, len(sites) - 1):\n",
    "            swap_sites_x.remove(sites[k])\n",
    "\n",
    "        constraints_strings_x.append(\n",
    "            [xor_left_sites_x, xor_bulk_sites_x, swap_sites_x, xor_right_sites_x]\n",
    "        )\n",
    "\n",
    "    for sites in sites_z:\n",
    "\n",
    "        # Retreiving the sites indices where we apply the \"bulk\"/\"boundary\" XOR tensors.\n",
    "        xor_left_sites_z = [sites[0]]\n",
    "        xor_bulk_sites_z = [sites[i] for i in range(1, len(sites) - 1)]\n",
    "        xor_right_sites_z = [sites[-1]]\n",
    "\n",
    "        # Retreiving the sites indices where we apply the SWAP tensors.\n",
    "        swap_sites_z = list(range(sites[0] + 1, sites[-1]))\n",
    "        for k in range(1, len(sites) - 1):\n",
    "            swap_sites_z.remove(sites[k])\n",
    "\n",
    "        constraints_strings_z.append(\n",
    "            [xor_left_sites_z, xor_bulk_sites_z, swap_sites_z, xor_right_sites_z]\n",
    "        )\n",
    "\n",
    "    return constraints_strings_x, constraints_strings_z"
   ]
  },
  {
   "cell_type": "code",
   "execution_count": 8,
   "metadata": {},
   "outputs": [],
   "source": [
    "tensors = [XOR_LEFT, XOR_BULK, SWAP, XOR_RIGHT]\n",
    "csscode_constraint_sites = get_cssconstraint_sites(code)"
   ]
  },
  {
   "cell_type": "code",
   "execution_count": 9,
   "metadata": {},
   "outputs": [
    {
     "name": "stdout",
     "output_type": "stream",
     "text": [
      "[[0], [2, 4, 6, 8], [1, 3, 5, 7, 9], [10]]\n",
      "[[6], [8, 10, 12, 14], [7, 9, 11, 13, 15], [16]]\n"
     ]
    }
   ],
   "source": [
    "# X checks' tensors\n",
    "for s in csscode_constraint_sites[0]:\n",
    "    print(s)"
   ]
  },
  {
   "cell_type": "code",
   "execution_count": 10,
   "metadata": {},
   "outputs": [
    {
     "name": "stdout",
     "output_type": "stream",
     "text": [
      "[[1], [], [2], [3]]\n",
      "[[3], [], [4], [5]]\n",
      "[[7], [], [8], [9]]\n",
      "[[9], [], [10], [11]]\n",
      "[[13], [], [14], [15]]\n",
      "[[15], [], [16], [17]]\n"
     ]
    }
   ],
   "source": [
    "# Z checks' tensors\n",
    "for s in csscode_constraint_sites[1]:\n",
    "    print(s)\n",
    "# No bulk XOR's indeed"
   ]
  },
  {
   "cell_type": "code",
   "execution_count": 11,
   "metadata": {},
   "outputs": [
    {
     "name": "stdout",
     "output_type": "stream",
     "text": [
      "[0, 1, 2]\n",
      "\n",
      "[0, 3, 6]\n",
      "\n"
     ]
    }
   ],
   "source": [
    "print(code.x_logicals_binary()) # Z_log = X_0 X_1 X_2\n",
    "print(code.z_logicals_binary()) # X_log = Z_0 Z_3 Z_6 (qecstruct naming?)"
   ]
  },
  {
   "cell_type": "code",
   "execution_count": 12,
   "metadata": {},
   "outputs": [],
   "source": [
    "def csscode_logicals(code: qec.CssCode):\n",
    "    \"\"\"\n",
    "    Returns the list of MPS sites where the logical constraints should be applied.\n",
    "\n",
    "    Parameters\n",
    "    ----------\n",
    "    code : qec.CssCode\n",
    "        The CSS code object.\n",
    "\n",
    "    Returns\n",
    "    logicals : tuple[list[int]]\n",
    "        List of logical operators, first X, then Z.\n",
    "    \"\"\"\n",
    "\n",
    "    log_matrix_x = code.z_logicals_binary()\n",
    "    array_x = np.zeros((log_matrix_x.num_rows(), log_matrix_x.num_columns()), dtype=int)\n",
    "    for row, cols in enumerate(log_matrix_x.rows()):\n",
    "        for col in cols:\n",
    "            array_x[row, col] = 1\n",
    "\n",
    "    log_matrix_z = code.x_logicals_binary()\n",
    "    array_z = np.zeros((log_matrix_z.num_rows(), log_matrix_z.num_columns()), dtype=int)\n",
    "    for row, cols in enumerate(log_matrix_z.rows()):\n",
    "        for col in cols:\n",
    "            array_z[row, col] = 1\n",
    "\n",
    "    x_logical = [2*np.nonzero(row)[0] + 1 for row in array_x]\n",
    "    z_logical = [2*np.nonzero(row)[0] for row in array_z]\n",
    "\n",
    "    return x_logical[0], z_logical[0]"
   ]
  },
  {
   "cell_type": "code",
   "execution_count": 13,
   "metadata": {},
   "outputs": [
    {
     "name": "stdout",
     "output_type": "stream",
     "text": [
      "[ 1  7 13]\n",
      "[0 2 4]\n"
     ]
    }
   ],
   "source": [
    "print(csscode_logicals(code)[0]) # X\n",
    "print(csscode_logicals(code)[1]) # Z"
   ]
  },
  {
   "cell_type": "code",
   "execution_count": 14,
   "metadata": {},
   "outputs": [],
   "source": [
    "def get_csslogicals_sites(code: qec.CssCode) -> tuple[list[int]]:\n",
    "    \"\"\"\n",
    "    Returns the list of MPS sites where the logical operators should be applied.\n",
    "\n",
    "    Parameters\n",
    "    ----------\n",
    "    code : qec.CssCode\n",
    "        The CSS code object.\n",
    "\n",
    "    Returns\n",
    "    -------\n",
    "    strings : tuple[list[int]]\n",
    "        List of MPS sites.\n",
    "    \"\"\"\n",
    "\n",
    "    sites_x, sites_z = csscode_logicals(code)\n",
    "\n",
    "    # Retreiving the sites indices where we apply the COPY tensors.\n",
    "    copy_site_x = [2 * (len(code)) + code.num_x_logicals() + code.num_z_logicals() - 2]\n",
    "    copy_site_z = [2 * (len(code)) + code.num_x_logicals() + code.num_z_logicals() - 1]\n",
    "\n",
    "    # Retreiving the sites indices where we apply the left XOR tensors.\n",
    "    xor_left_site_x = [sites_x[0]]\n",
    "    xor_left_site_z = [sites_z[0]]\n",
    "\n",
    "    # Retreiving the sites indices where we apply the bulk XOR tensors.\n",
    "    xor_bulk_sites_x = [sites_x[i] for i in range(1, len(sites_x))]\n",
    "    xor_bulk_sites_z = [sites_z[i] for i in range(1, len(sites_z))]\n",
    "\n",
    "    # Retreiving the sites indices where we apply the SWAP tensors.\n",
    "    swap_sites_x = list(range(sites_x[0]+1, copy_site_x[0]))\n",
    "    swap_sites_x = [site for site in swap_sites_x if site not in xor_bulk_sites_x]\n",
    "    swap_sites_z = list(range(sites_z[0]+1, copy_site_z[0]))\n",
    "    swap_sites_z = [site for site in swap_sites_z if site not in xor_bulk_sites_z]\n",
    "\n",
    "    string_x = [xor_left_site_x, xor_bulk_sites_x, swap_sites_x, copy_site_x]\n",
    "    string_z = [xor_left_site_z, xor_bulk_sites_z, swap_sites_z, copy_site_z]\n",
    "\n",
    "    return string_x, string_z"
   ]
  },
  {
   "cell_type": "code",
   "execution_count": 15,
   "metadata": {},
   "outputs": [
    {
     "name": "stdout",
     "output_type": "stream",
     "text": [
      "[[1], [7, 13], [2, 3, 4, 5, 6, 8, 9, 10, 11, 12, 14, 15, 16, 17], [18]]\n",
      "[[0], [2, 4], [1, 3, 5, 6, 7, 8, 9, 10, 11, 12, 13, 14, 15, 16, 17, 18], [19]]\n"
     ]
    }
   ],
   "source": [
    "print(get_csslogicals_sites(code)[0]) # X\n",
    "print(get_csslogicals_sites(code)[1]) # Z"
   ]
  },
  {
   "cell_type": "code",
   "execution_count": 16,
   "metadata": {},
   "outputs": [],
   "source": [
    "tensors = [XOR_LEFT, XOR_BULK, SWAP, XOR_RIGHT]\n",
    "csscode_constraint_sites = get_cssconstraint_sites(code)\n",
    "\n",
    "tensors_for_logicals = [XOR_LEFT, XOR_BULK, SWAP, COPY]\n",
    "constraint_sites_logicals = get_csslogicals_sites(code)"
   ]
  },
  {
   "cell_type": "code",
   "execution_count": 17,
   "metadata": {},
   "outputs": [
    {
     "name": "stderr",
     "output_type": "stream",
     "text": [
      "100%|██████████| 2/2 [00:00<00:00, 47.09it/s]\n"
     ]
    }
   ],
   "source": [
    "error_state = apply_parity_constraints(\n",
    "    error_state, csscode_constraint_sites[0], tensors, renormalise=False\n",
    "    )"
   ]
  },
  {
   "cell_type": "code",
   "execution_count": 18,
   "metadata": {},
   "outputs": [
    {
     "name": "stderr",
     "output_type": "stream",
     "text": [
      "100%|██████████| 6/6 [00:00<00:00, 290.64it/s]\n"
     ]
    }
   ],
   "source": [
    "error_state = apply_parity_constraints(\n",
    "    error_state, csscode_constraint_sites[1], tensors, renormalise=False\n",
    "    )"
   ]
  },
  {
   "cell_type": "code",
   "execution_count": 19,
   "metadata": {},
   "outputs": [
    {
     "name": "stderr",
     "output_type": "stream",
     "text": [
      "100%|██████████| 2/2 [00:00<00:00, 41.24it/s]\n"
     ]
    }
   ],
   "source": [
    "error_state = apply_parity_constraints(\n",
    "    error_state, constraint_sites_logicals, tensors_for_logicals, renormalise=False\n",
    "    )"
   ]
  },
  {
   "cell_type": "code",
   "execution_count": 20,
   "metadata": {},
   "outputs": [
    {
     "name": "stdout",
     "output_type": "stream",
     "text": [
      "20 [0, 1, 2, 3, 4, 5, 6, 7, 8, 9, 10, 11, 12, 13, 14, 15, 16, 17]\n",
      "visiting site  0  with bond_dim= 1\n",
      "tensor  1  inserting into tensor 0\n",
      "new list of sites to marginalise: [0, 1, 2, 3, 4, 5, 6, 7, 8, 9, 10, 11, 12, 13, 14, 15, 16]\n",
      "tensors' shapes after a round of bubbling\n",
      "[(1, 1), (1, 1), (1, 1), (1, 1), (1, 1), (1, 1), (1, 1), (1, 1), (1, 1), (1, 1), (1, 1), (1, 1), (1, 1), (1, 1), (1, 1), (1, 1), (1, 1), (1, 2, 1), (1, 2, 1)]\n",
      "visiting site  0  with bond_dim= 1\n",
      "tensor  1  inserting into tensor 0\n",
      "new list of sites to marginalise: [0, 1, 2, 3, 4, 5, 6, 7, 8, 9, 10, 11, 12, 13, 14, 15]\n",
      "tensors' shapes after a round of bubbling\n",
      "[(1, 1), (1, 1), (1, 1), (1, 1), (1, 1), (1, 1), (1, 1), (1, 1), (1, 1), (1, 1), (1, 1), (1, 1), (1, 1), (1, 1), (1, 1), (1, 1), (1, 2, 1), (1, 2, 1)]\n",
      "visiting site  0  with bond_dim= 1\n",
      "tensor  1  inserting into tensor 0\n",
      "new list of sites to marginalise: [0, 1, 2, 3, 4, 5, 6, 7, 8, 9, 10, 11, 12, 13, 14]\n",
      "tensors' shapes after a round of bubbling\n",
      "[(1, 1), (1, 1), (1, 1), (1, 1), (1, 1), (1, 1), (1, 1), (1, 1), (1, 1), (1, 1), (1, 1), (1, 1), (1, 1), (1, 1), (1, 1), (1, 2, 1), (1, 2, 1)]\n",
      "visiting site  0  with bond_dim= 1\n",
      "tensor  1  inserting into tensor 0\n",
      "new list of sites to marginalise: [0, 1, 2, 3, 4, 5, 6, 7, 8, 9, 10, 11, 12, 13]\n",
      "tensors' shapes after a round of bubbling\n",
      "[(1, 1), (1, 1), (1, 1), (1, 1), (1, 1), (1, 1), (1, 1), (1, 1), (1, 1), (1, 1), (1, 1), (1, 1), (1, 1), (1, 1), (1, 2, 1), (1, 2, 1)]\n",
      "visiting site  0  with bond_dim= 1\n",
      "tensor  1  inserting into tensor 0\n",
      "new list of sites to marginalise: [0, 1, 2, 3, 4, 5, 6, 7, 8, 9, 10, 11, 12]\n",
      "tensors' shapes after a round of bubbling\n",
      "[(1, 1), (1, 1), (1, 1), (1, 1), (1, 1), (1, 1), (1, 1), (1, 1), (1, 1), (1, 1), (1, 1), (1, 1), (1, 1), (1, 2, 1), (1, 2, 1)]\n",
      "visiting site  0  with bond_dim= 1\n",
      "tensor  1  inserting into tensor 0\n",
      "new list of sites to marginalise: [0, 1, 2, 3, 4, 5, 6, 7, 8, 9, 10, 11]\n",
      "tensors' shapes after a round of bubbling\n",
      "[(1, 1), (1, 1), (1, 1), (1, 1), (1, 1), (1, 1), (1, 1), (1, 1), (1, 1), (1, 1), (1, 1), (1, 1), (1, 2, 1), (1, 2, 1)]\n",
      "visiting site  0  with bond_dim= 1\n",
      "tensor  1  inserting into tensor 0\n",
      "new list of sites to marginalise: [0, 1, 2, 3, 4, 5, 6, 7, 8, 9, 10]\n",
      "tensors' shapes after a round of bubbling\n",
      "[(1, 1), (1, 1), (1, 1), (1, 1), (1, 1), (1, 1), (1, 1), (1, 1), (1, 1), (1, 1), (1, 1), (1, 2, 1), (1, 2, 1)]\n",
      "visiting site  0  with bond_dim= 1\n",
      "tensor  1  inserting into tensor 0\n",
      "new list of sites to marginalise: [0, 1, 2, 3, 4, 5, 6, 7, 8, 9]\n",
      "tensors' shapes after a round of bubbling\n",
      "[(1, 1), (1, 1), (1, 1), (1, 1), (1, 1), (1, 1), (1, 1), (1, 1), (1, 1), (1, 1), (1, 2, 1), (1, 2, 1)]\n",
      "visiting site  0  with bond_dim= 1\n",
      "tensor  1  inserting into tensor 0\n",
      "new list of sites to marginalise: [0, 1, 2, 3, 4, 5, 6, 7, 8]\n",
      "tensors' shapes after a round of bubbling\n",
      "[(1, 1), (1, 1), (1, 1), (1, 1), (1, 1), (1, 1), (1, 1), (1, 1), (1, 1), (1, 2, 1), (1, 2, 1)]\n",
      "visiting site  0  with bond_dim= 1\n",
      "tensor  1  inserting into tensor 0\n",
      "new list of sites to marginalise: [0, 1, 2, 3, 4, 5, 6, 7]\n",
      "tensors' shapes after a round of bubbling\n",
      "[(1, 1), (1, 1), (1, 1), (1, 1), (1, 1), (1, 1), (1, 1), (1, 1), (1, 2, 1), (1, 2, 1)]\n",
      "tensor  1  inserting into tensor 0\n",
      "new list of sites to marginalise: [0, 1, 2, 3, 4, 5, 6]\n",
      "tensors' shapes after a round of bubbling\n",
      "[(1, 1), (1, 1), (1, 1), (1, 1), (1, 1), (1, 1), (1, 1), (1, 2, 1), (1, 2, 1)]\n",
      "tensor  1  inserting into tensor 0\n",
      "new list of sites to marginalise: [0, 1, 2, 3, 4, 5]\n",
      "tensors' shapes after a round of bubbling\n",
      "[(1, 1), (1, 1), (1, 1), (1, 1), (1, 1), (1, 1), (1, 2, 1), (1, 2, 1)]\n",
      "tensor  1  inserting into tensor 0\n",
      "new list of sites to marginalise: [0, 1, 2, 3, 4]\n",
      "tensors' shapes after a round of bubbling\n",
      "[(1, 1), (1, 1), (1, 1), (1, 1), (1, 1), (1, 2, 1), (1, 2, 1)]\n",
      "tensor  1  inserting into tensor 0\n",
      "new list of sites to marginalise: [0, 1, 2, 3]\n",
      "tensors' shapes after a round of bubbling\n",
      "[(1, 1), (1, 1), (1, 1), (1, 1), (1, 2, 1), (1, 2, 1)]\n",
      "tensor  1  inserting into tensor 0\n",
      "new list of sites to marginalise: [0, 1, 2]\n",
      "tensors' shapes after a round of bubbling\n",
      "[(1, 1), (1, 1), (1, 1), (1, 2, 1), (1, 2, 1)]\n",
      "tensor  1  inserting into tensor 0\n",
      "new list of sites to marginalise: [0, 1]\n",
      "tensors' shapes after a round of bubbling\n",
      "[(1, 1), (1, 1), (1, 2, 1), (1, 2, 1)]\n",
      "tensor  1  inserting into tensor 0\n",
      "new list of sites to marginalise: [0]\n",
      "tensors' shapes after a round of bubbling\n",
      "[(1, 1), (1, 2, 1), (1, 2, 1)]\n",
      "tensor  0  inserting into tensor 1\n",
      "new list of sites to marginalise: []\n",
      "tensors' shapes after a round of bubbling\n",
      "[(1, 2, 1), (1, 2, 1)]\n"
     ]
    }
   ],
   "source": [
    "marg = error_state.marginal(sites_to_marginalise=list(range(18)))"
   ]
  },
  {
   "cell_type": "code",
   "execution_count": 21,
   "metadata": {},
   "outputs": [
    {
     "data": {
      "text/plain": [
       "array([0.00195312, 0.        , 0.        , 0.        ])"
      ]
     },
     "execution_count": 21,
     "metadata": {},
     "output_type": "execute_result"
    }
   ],
   "source": [
    "marg.dense()"
   ]
  },
  {
   "cell_type": "code",
   "execution_count": null,
   "metadata": {},
   "outputs": [],
   "source": []
  }
 ],
 "metadata": {
  "kernelspec": {
   "display_name": "Python 3.9.12 ('.venv': poetry)",
   "language": "python",
   "name": "python3"
  },
  "language_info": {
   "codemirror_mode": {
    "name": "ipython",
    "version": 3
   },
   "file_extension": ".py",
   "mimetype": "text/x-python",
   "name": "python",
   "nbconvert_exporter": "python",
   "pygments_lexer": "ipython3",
   "version": "3.9.12"
  },
  "orig_nbformat": 4,
  "vscode": {
   "interpreter": {
    "hash": "9e689760a1f776e00a9a3042216f710fbc61b9f2f4ea9c34be1928baf0239fa9"
   }
  }
 },
 "nbformat": 4,
 "nbformat_minor": 2
}
